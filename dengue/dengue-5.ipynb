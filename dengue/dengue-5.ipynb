{
 "cells": [
  {
   "cell_type": "code",
   "execution_count": 1,
   "id": "48c44a60",
   "metadata": {
    "_cell_guid": "b1076dfc-b9ad-4769-8c92-a6c4dae69d19",
    "_uuid": "8f2839f25d086af736a60e9eeb907d3b93b6e0e5",
    "execution": {
     "iopub.execute_input": "2023-12-12T21:28:07.531532Z",
     "iopub.status.busy": "2023-12-12T21:28:07.530795Z",
     "iopub.status.idle": "2023-12-12T21:28:08.014006Z",
     "shell.execute_reply": "2023-12-12T21:28:08.012822Z"
    },
    "papermill": {
     "duration": 0.495047,
     "end_time": "2023-12-12T21:28:08.016849",
     "exception": false,
     "start_time": "2023-12-12T21:28:07.521802",
     "status": "completed"
    },
    "tags": []
   },
   "outputs": [
    {
     "data": {
      "text/html": [
       "<div>\n",
       "<style scoped>\n",
       "    .dataframe tbody tr th:only-of-type {\n",
       "        vertical-align: middle;\n",
       "    }\n",
       "\n",
       "    .dataframe tbody tr th {\n",
       "        vertical-align: top;\n",
       "    }\n",
       "\n",
       "    .dataframe thead th {\n",
       "        text-align: right;\n",
       "    }\n",
       "</style>\n",
       "<table border=\"1\" class=\"dataframe\">\n",
       "  <thead>\n",
       "    <tr style=\"text-align: right;\">\n",
       "      <th></th>\n",
       "      <th>Age</th>\n",
       "      <th>Sex</th>\n",
       "      <th>Month Affected</th>\n",
       "      <th>Duration of fever (days)</th>\n",
       "      <th>Current body temperature (°C)</th>\n",
       "      <th>White Blood Cell (WBC) Count</th>\n",
       "      <th>Back pain in eyes</th>\n",
       "      <th>Joint pain</th>\n",
       "      <th>Muscle pain</th>\n",
       "      <th>Vomiting</th>\n",
       "      <th>...</th>\n",
       "      <th>Rash</th>\n",
       "      <th>Pleural effusion</th>\n",
       "      <th>Ascites</th>\n",
       "      <th>Bleeding</th>\n",
       "      <th>Slow heart rate</th>\n",
       "      <th>Igg</th>\n",
       "      <th>Igm</th>\n",
       "      <th>NS1</th>\n",
       "      <th>Travelling history</th>\n",
       "      <th>Headache</th>\n",
       "    </tr>\n",
       "  </thead>\n",
       "  <tbody>\n",
       "    <tr>\n",
       "      <th>0</th>\n",
       "      <td>13</td>\n",
       "      <td>Male</td>\n",
       "      <td>May</td>\n",
       "      <td>11</td>\n",
       "      <td>38.2</td>\n",
       "      <td>11257</td>\n",
       "      <td>Low</td>\n",
       "      <td>Medium</td>\n",
       "      <td>High</td>\n",
       "      <td>Low</td>\n",
       "      <td>...</td>\n",
       "      <td>Medium</td>\n",
       "      <td>Medium</td>\n",
       "      <td>Medium</td>\n",
       "      <td>Medium</td>\n",
       "      <td>Medium</td>\n",
       "      <td>Negative</td>\n",
       "      <td>Positive</td>\n",
       "      <td>Positive</td>\n",
       "      <td>Yes</td>\n",
       "      <td>High</td>\n",
       "    </tr>\n",
       "    <tr>\n",
       "      <th>1</th>\n",
       "      <td>4</td>\n",
       "      <td>Female</td>\n",
       "      <td>January</td>\n",
       "      <td>8</td>\n",
       "      <td>38.7</td>\n",
       "      <td>9824</td>\n",
       "      <td>Low</td>\n",
       "      <td>Low</td>\n",
       "      <td>High</td>\n",
       "      <td>High</td>\n",
       "      <td>...</td>\n",
       "      <td>Medium</td>\n",
       "      <td>Medium</td>\n",
       "      <td>High</td>\n",
       "      <td>Low</td>\n",
       "      <td>Medium</td>\n",
       "      <td>Negative</td>\n",
       "      <td>Negative</td>\n",
       "      <td>Positive</td>\n",
       "      <td>Yes</td>\n",
       "      <td>High</td>\n",
       "    </tr>\n",
       "    <tr>\n",
       "      <th>2</th>\n",
       "      <td>68</td>\n",
       "      <td>Female</td>\n",
       "      <td>October</td>\n",
       "      <td>14</td>\n",
       "      <td>38.9</td>\n",
       "      <td>4731</td>\n",
       "      <td>High</td>\n",
       "      <td>Low</td>\n",
       "      <td>Medium</td>\n",
       "      <td>High</td>\n",
       "      <td>...</td>\n",
       "      <td>High</td>\n",
       "      <td>Low</td>\n",
       "      <td>Medium</td>\n",
       "      <td>Low</td>\n",
       "      <td>Low</td>\n",
       "      <td>Negative</td>\n",
       "      <td>Negative</td>\n",
       "      <td>Negative</td>\n",
       "      <td>Yes</td>\n",
       "      <td>Medium</td>\n",
       "    </tr>\n",
       "    <tr>\n",
       "      <th>3</th>\n",
       "      <td>73</td>\n",
       "      <td>Male</td>\n",
       "      <td>July</td>\n",
       "      <td>11</td>\n",
       "      <td>37.8</td>\n",
       "      <td>5055</td>\n",
       "      <td>Medium</td>\n",
       "      <td>High</td>\n",
       "      <td>Medium</td>\n",
       "      <td>High</td>\n",
       "      <td>...</td>\n",
       "      <td>Low</td>\n",
       "      <td>High</td>\n",
       "      <td>High</td>\n",
       "      <td>Medium</td>\n",
       "      <td>High</td>\n",
       "      <td>Positive</td>\n",
       "      <td>Positive</td>\n",
       "      <td>Positive</td>\n",
       "      <td>No</td>\n",
       "      <td>Medium</td>\n",
       "    </tr>\n",
       "    <tr>\n",
       "      <th>4</th>\n",
       "      <td>31</td>\n",
       "      <td>Female</td>\n",
       "      <td>April</td>\n",
       "      <td>4</td>\n",
       "      <td>38.4</td>\n",
       "      <td>5755</td>\n",
       "      <td>High</td>\n",
       "      <td>Medium</td>\n",
       "      <td>Medium</td>\n",
       "      <td>Medium</td>\n",
       "      <td>...</td>\n",
       "      <td>Low</td>\n",
       "      <td>Medium</td>\n",
       "      <td>High</td>\n",
       "      <td>Low</td>\n",
       "      <td>High</td>\n",
       "      <td>Negative</td>\n",
       "      <td>Negative</td>\n",
       "      <td>Negative</td>\n",
       "      <td>Yes</td>\n",
       "      <td>Low</td>\n",
       "    </tr>\n",
       "  </tbody>\n",
       "</table>\n",
       "<p>5 rows × 24 columns</p>\n",
       "</div>"
      ],
      "text/plain": [
       "   Age     Sex Month Affected  Duration of fever (days)  \\\n",
       "0   13    Male            May                        11   \n",
       "1    4  Female        January                         8   \n",
       "2   68  Female        October                        14   \n",
       "3   73    Male           July                        11   \n",
       "4   31  Female          April                         4   \n",
       "\n",
       "   Current body temperature (°C)  White Blood Cell (WBC) Count  \\\n",
       "0                           38.2                         11257   \n",
       "1                           38.7                          9824   \n",
       "2                           38.9                          4731   \n",
       "3                           37.8                          5055   \n",
       "4                           38.4                          5755   \n",
       "\n",
       "  Back pain in eyes Joint pain Muscle pain Vomiting  ...    Rash  \\\n",
       "0               Low     Medium        High      Low  ...  Medium   \n",
       "1               Low        Low        High     High  ...  Medium   \n",
       "2              High        Low      Medium     High  ...    High   \n",
       "3            Medium       High      Medium     High  ...     Low   \n",
       "4              High     Medium      Medium   Medium  ...     Low   \n",
       "\n",
       "  Pleural effusion  Ascites Bleeding Slow heart rate       Igg       Igm  \\\n",
       "0           Medium   Medium   Medium          Medium  Negative  Positive   \n",
       "1           Medium     High      Low          Medium  Negative  Negative   \n",
       "2              Low   Medium      Low             Low  Negative  Negative   \n",
       "3             High     High   Medium            High  Positive  Positive   \n",
       "4           Medium     High      Low            High  Negative  Negative   \n",
       "\n",
       "        NS1 Travelling history Headache  \n",
       "0  Positive                Yes     High  \n",
       "1  Positive                Yes     High  \n",
       "2  Negative                Yes   Medium  \n",
       "3  Positive                 No   Medium  \n",
       "4  Negative                Yes      Low  \n",
       "\n",
       "[5 rows x 24 columns]"
      ]
     },
     "execution_count": 1,
     "metadata": {},
     "output_type": "execute_result"
    }
   ],
   "source": [
    "import pandas as pd\n",
    "\n",
    "# Load the dataset\n",
    "file_path = '/kaggle/input/final-dengue-dataset/DengueFinalDatasets.csv'\n",
    "dengue_data = pd.read_csv(file_path)\n",
    "\n",
    "dengue_data.head()"
   ]
  },
  {
   "cell_type": "code",
   "execution_count": 2,
   "id": "65126f4e",
   "metadata": {
    "execution": {
     "iopub.execute_input": "2023-12-12T21:28:08.032498Z",
     "iopub.status.busy": "2023-12-12T21:28:08.032083Z",
     "iopub.status.idle": "2023-12-12T21:28:08.110156Z",
     "shell.execute_reply": "2023-12-12T21:28:08.108857Z"
    },
    "papermill": {
     "duration": 0.08918,
     "end_time": "2023-12-12T21:28:08.113083",
     "exception": false,
     "start_time": "2023-12-12T21:28:08.023903",
     "status": "completed"
    },
    "tags": []
   },
   "outputs": [
    {
     "name": "stdout",
     "output_type": "stream",
     "text": [
      "<class 'pandas.core.frame.DataFrame'>\n",
      "Index: 300 entries, 0 to 299\n",
      "Data columns (total 24 columns):\n",
      " #   Column                         Non-Null Count  Dtype   \n",
      "---  ------                         --------------  -----   \n",
      " 0   Age                            300 non-null    int64   \n",
      " 1   Sex                            300 non-null    category\n",
      " 2   Month Affected                 300 non-null    category\n",
      " 3   Duration of fever (days)       300 non-null    int64   \n",
      " 4   Current body temperature (°C)  300 non-null    float64 \n",
      " 5   White Blood Cell (WBC) Count   300 non-null    int64   \n",
      " 6   Back pain in eyes              300 non-null    category\n",
      " 7   Joint pain                     300 non-null    category\n",
      " 8   Muscle pain                    300 non-null    category\n",
      " 9   Vomiting                       300 non-null    category\n",
      " 10  Hemoglobin Range               300 non-null    category\n",
      " 11  Hematocrit Range               300 non-null    category\n",
      " 12  Platelets Count                300 non-null    int64   \n",
      " 13  Shock (Low/Medium/High)        300 non-null    category\n",
      " 14  Rash                           300 non-null    category\n",
      " 15  Pleural effusion               300 non-null    category\n",
      " 16  Ascites                        300 non-null    category\n",
      " 17  Bleeding                       300 non-null    category\n",
      " 18  Slow heart rate                300 non-null    category\n",
      " 19  Igg                            300 non-null    category\n",
      " 20  Igm                            300 non-null    category\n",
      " 21  NS1                            300 non-null    category\n",
      " 22  Travelling history             300 non-null    category\n",
      " 23  Headache                       300 non-null    category\n",
      "dtypes: category(19), float64(1), int64(4)\n",
      "memory usage: 34.8 KB\n"
     ]
    }
   ],
   "source": [
    "\n",
    "categorical_columns = dengue_data.select_dtypes(include=['object']).columns\n",
    "dengue_data[categorical_columns] = dengue_data[categorical_columns].astype('category')\n",
    "numerical_columns = dengue_data.select_dtypes(include=['int64', 'float64']).columns\n",
    "for col in numerical_columns:\n",
    "    Q1 = dengue_data[col].quantile(0.25)\n",
    "    Q3 = dengue_data[col].quantile(0.75)\n",
    "    IQR = Q3 - Q1\n",
    "    filter = (dengue_data[col] >= Q1 - 1.5 * IQR) & (dengue_data[col] <= Q3 + 1.5 * IQR)\n",
    "    dengue_data = dengue_data.loc[filter]\n",
    "\n",
    "dengue_data = dengue_data.drop_duplicates()\n",
    "\n",
    "updated_dataset_info = dengue_data.info()\n",
    "updated_dataset_info\n"
   ]
  },
  {
   "cell_type": "code",
   "execution_count": 3,
   "id": "c36780c1",
   "metadata": {
    "execution": {
     "iopub.execute_input": "2023-12-12T21:28:08.129531Z",
     "iopub.status.busy": "2023-12-12T21:28:08.129142Z",
     "iopub.status.idle": "2023-12-12T21:28:08.138877Z",
     "shell.execute_reply": "2023-12-12T21:28:08.137686Z"
    },
    "papermill": {
     "duration": 0.020925,
     "end_time": "2023-12-12T21:28:08.141336",
     "exception": false,
     "start_time": "2023-12-12T21:28:08.120411",
     "status": "completed"
    },
    "tags": []
   },
   "outputs": [
    {
     "data": {
      "text/plain": [
       "NS1\n",
       "Negative    167\n",
       "Positive    133\n",
       "Name: count, dtype: int64"
      ]
     },
     "execution_count": 3,
     "metadata": {},
     "output_type": "execute_result"
    }
   ],
   "source": [
    "ns1_value_counts = dengue_data['NS1'].value_counts()\n",
    "#ns1_categories = dengue_data['NS1'].cat.categories\n",
    "ns1_value_counts"
   ]
  },
  {
   "cell_type": "markdown",
   "id": "8441646b",
   "metadata": {
    "papermill": {
     "duration": 0.00695,
     "end_time": "2023-12-12T21:28:08.155384",
     "exception": false,
     "start_time": "2023-12-12T21:28:08.148434",
     "status": "completed"
    },
    "tags": []
   },
   "source": [
    "# 1.  ExtraTreeClassifier"
   ]
  },
  {
   "cell_type": "code",
   "execution_count": 4,
   "id": "025a93ae",
   "metadata": {
    "execution": {
     "iopub.execute_input": "2023-12-12T21:28:08.171814Z",
     "iopub.status.busy": "2023-12-12T21:28:08.171393Z",
     "iopub.status.idle": "2023-12-12T21:28:10.532451Z",
     "shell.execute_reply": "2023-12-12T21:28:10.531237Z"
    },
    "papermill": {
     "duration": 2.372337,
     "end_time": "2023-12-12T21:28:10.534954",
     "exception": false,
     "start_time": "2023-12-12T21:28:08.162617",
     "status": "completed"
    },
    "tags": []
   },
   "outputs": [
    {
     "name": "stdout",
     "output_type": "stream",
     "text": [
      "              precision    recall  f1-score   support\n",
      "\n",
      "    Negative       0.50      0.58      0.54        45\n",
      "    Positive       0.50      0.42      0.46        45\n",
      "\n",
      "    accuracy                           0.50        90\n",
      "   macro avg       0.50      0.50      0.50        90\n",
      "weighted avg       0.50      0.50      0.50        90\n",
      "\n"
     ]
    },
    {
     "data": {
      "image/png": "[encoded data removed]",
      "text/plain": [
       "<Figure size 800x600 with 2 Axes>"
      ]
     },
     "metadata": {},
     "output_type": "display_data"
    }
   ],
   "source": [
    "from sklearn.tree import ExtraTreeClassifier\n",
    "from sklearn.model_selection import train_test_split\n",
    "from sklearn.metrics import classification_report, confusion_matrix\n",
    "import matplotlib.pyplot as plt\n",
    "import seaborn as sns\n",
    "import numpy as np\n",
    "\n",
    "X = dengue_data.drop('NS1', axis=1)\n",
    "y = dengue_data['NS1']\n",
    "\n",
    "X = pd.get_dummies(X, drop_first=True)\n",
    "\n",
    "X_train, X_test, y_train, y_test = train_test_split(X, y, test_size=0.3, random_state=0)\n",
    "\n",
    "\n",
    "clf = ExtraTreeClassifier(random_state=0)\n",
    "clf.fit(X_train, y_train)\n",
    "\n",
    "# Predictions\n",
    "y_pred = clf.predict(X_test)\n",
    "\n",
    "# Confusion Matrix\n",
    "conf_matrix = confusion_matrix(y_test, y_pred)\n",
    "\n",
    "# Classification Report\n",
    "class_report = classification_report(y_test, y_pred)\n",
    "\n",
    "# Visualize the Confusion Matrix\n",
    "plt.figure(figsize=(8, 6))\n",
    "sns.heatmap(conf_matrix, annot=True, fmt='g', cmap='Blues')\n",
    "plt.xlabel('Predicted label')\n",
    "plt.ylabel('True label')\n",
    "plt.title('Confusion Matrix')\n",
    "\n",
    "# Displaying the classification report\n",
    "print(class_report)\n",
    "\n",
    "# Show the plot\n",
    "plt.show()"
   ]
  },
  {
   "cell_type": "markdown",
   "id": "c32fb058",
   "metadata": {
    "papermill": {
     "duration": 0.008058,
     "end_time": "2023-12-12T21:28:10.550964",
     "exception": false,
     "start_time": "2023-12-12T21:28:10.542906",
     "status": "completed"
    },
    "tags": []
   },
   "source": [
    "# 2. DecisionTreeClassifier"
   ]
  },
  {
   "cell_type": "code",
   "execution_count": 5,
   "id": "89cd83b1",
   "metadata": {
    "execution": {
     "iopub.execute_input": "2023-12-12T21:28:10.569322Z",
     "iopub.status.busy": "2023-12-12T21:28:10.568837Z",
     "iopub.status.idle": "2023-12-12T21:28:10.914561Z",
     "shell.execute_reply": "2023-12-12T21:28:10.913618Z"
    },
    "papermill": {
     "duration": 0.357945,
     "end_time": "2023-12-12T21:28:10.916941",
     "exception": false,
     "start_time": "2023-12-12T21:28:10.558996",
     "status": "completed"
    },
    "tags": []
   },
   "outputs": [
    {
     "data": {
      "image/png": "[encoded data removed]",
      "text/plain": [
       "<Figure size 800x600 with 2 Axes>"
      ]
     },
     "metadata": {},
     "output_type": "display_data"
    },
    {
     "data": {
      "text/plain": [
       "(0.5888888888888889,\n",
       " 0.4111111111111111,\n",
       " 0.5952380952380952,\n",
       " 0.5555555555555556,\n",
       " 0.574712643678161,\n",
       " 0.6222222222222222)"
      ]
     },
     "execution_count": 5,
     "metadata": {},
     "output_type": "execute_result"
    }
   ],
   "source": [
    "from sklearn.preprocessing import LabelEncoder\n",
    "from sklearn.tree import DecisionTreeClassifier\n",
    "from sklearn.metrics import accuracy_score, precision_score, recall_score, f1_score\n",
    "\n",
    "dtc = DecisionTreeClassifier(random_state=0)\n",
    "\n",
    "\n",
    "\n",
    "label_encoder = LabelEncoder()\n",
    "y_encoded = label_encoder.fit_transform(y)\n",
    "\n",
    "# Splitting the encoded data into training and testing sets\n",
    "X_train, X_test, y_train_encoded, y_test_encoded = train_test_split(X, y_encoded, test_size=0.3, random_state=0)\n",
    "\n",
    "# Train the DecisionTreeClassifier on the encoded labels\n",
    "dtc.fit(X_train, y_train_encoded)\n",
    "\n",
    "# Predictions on the test set\n",
    "y_pred_dtc_encoded = dtc.predict(X_test)\n",
    "\n",
    "# Recalculating the metrics with the encoded labels\n",
    "conf_matrix_dtc_encoded = confusion_matrix(y_test_encoded, y_pred_dtc_encoded)\n",
    "accuracy_encoded = accuracy_score(y_test_encoded, y_pred_dtc_encoded)\n",
    "misclassification_rate_encoded = 1 - accuracy_encoded\n",
    "precision_encoded = precision_score(y_test_encoded, y_pred_dtc_encoded)\n",
    "recall_encoded = recall_score(y_test_encoded, y_pred_dtc_encoded)\n",
    "f_measure_encoded = f1_score(y_test_encoded, y_pred_dtc_encoded)\n",
    "\n",
    "# Specificity calculation (using encoded labels)\n",
    "TN_encoded, FP_encoded, FN_encoded, TP_encoded = conf_matrix_dtc_encoded.ravel()\n",
    "specificity_encoded = TN_encoded / (TN_encoded + FP_encoded)\n",
    "\n",
    "# Visualize the Confusion Matrix\n",
    "plt.figure(figsize=(8, 6))\n",
    "sns.heatmap(conf_matrix_dtc_encoded, annot=True, fmt='g', cmap='Blues')\n",
    "plt.xlabel('Predicted label')\n",
    "plt.ylabel('True label')\n",
    "plt.title('Confusion Matrix - Decision Tree Classifier (Encoded Labels)')\n",
    "\n",
    "# Show the plot\n",
    "plt.show()\n",
    "\n",
    "# Returning the recalculated metrics\n",
    "accuracy_encoded, misclassification_rate_encoded, precision_encoded, recall_encoded, f_measure_encoded, specificity_encoded"
   ]
  },
  {
   "cell_type": "markdown",
   "id": "762150fa",
   "metadata": {
    "papermill": {
     "duration": 0.008202,
     "end_time": "2023-12-12T21:28:10.933498",
     "exception": false,
     "start_time": "2023-12-12T21:28:10.925296",
     "status": "completed"
    },
    "tags": []
   },
   "source": [
    "# 3. MLPClassifier"
   ]
  },
  {
   "cell_type": "code",
   "execution_count": 6,
   "id": "9f581157",
   "metadata": {
    "execution": {
     "iopub.execute_input": "2023-12-12T21:28:10.952261Z",
     "iopub.status.busy": "2023-12-12T21:28:10.951840Z",
     "iopub.status.idle": "2023-12-12T21:28:11.481259Z",
     "shell.execute_reply": "2023-12-12T21:28:11.480118Z"
    },
    "papermill": {
     "duration": 0.541881,
     "end_time": "2023-12-12T21:28:11.483839",
     "exception": false,
     "start_time": "2023-12-12T21:28:10.941958",
     "status": "completed"
    },
    "tags": []
   },
   "outputs": [
    {
     "data": {
      "image/png": "[encoded data removed]",
      "text/plain": [
       "<Figure size 800x600 with 2 Axes>"
      ]
     },
     "metadata": {},
     "output_type": "display_data"
    },
    {
     "data": {
      "text/plain": [
       "(0.5, 0.5, 0.5, 0.3111111111111111, 0.3835616438356164, 0.6888888888888889)"
      ]
     },
     "execution_count": 6,
     "metadata": {},
     "output_type": "execute_result"
    }
   ],
   "source": [
    "from sklearn.neural_network import MLPClassifier\n",
    "\n",
    "# Initialize and train the MLPClassifier\n",
    "# We'll use a simple architecture with one hidden layer, as an example\n",
    "mlp = MLPClassifier(hidden_layer_sizes=(100,), max_iter=300, random_state=0)\n",
    "mlp.fit(X_train, y_train_encoded)\n",
    "\n",
    "# Predictions\n",
    "y_pred_mlp = mlp.predict(X_test)\n",
    "\n",
    "# Confusion Matrix for MLPClassifier\n",
    "conf_matrix_mlp = confusion_matrix(y_test_encoded, y_pred_mlp)\n",
    "\n",
    "# Calculating various metrics\n",
    "accuracy_mlp = accuracy_score(y_test_encoded, y_pred_mlp)\n",
    "misclassification_rate_mlp = 1 - accuracy_mlp\n",
    "precision_mlp = precision_score(y_test_encoded, y_pred_mlp)\n",
    "recall_mlp = recall_score(y_test_encoded, y_pred_mlp)\n",
    "f_measure_mlp = f1_score(y_test_encoded, y_pred_mlp)\n",
    "\n",
    "# Specificity calculation for MLPClassifier\n",
    "TN_mlp, FP_mlp, FN_mlp, TP_mlp = conf_matrix_mlp.ravel()\n",
    "specificity_mlp = TN_mlp / (TN_mlp + FP_mlp)\n",
    "\n",
    "# Visualize the Confusion Matrix for MLPClassifier\n",
    "plt.figure(figsize=(8, 6))\n",
    "sns.heatmap(conf_matrix_mlp, annot=True, fmt='g', cmap='Blues')\n",
    "plt.xlabel('Predicted label')\n",
    "plt.ylabel('True label')\n",
    "plt.title('Confusion Matrix - MLP Classifier')\n",
    "\n",
    "# Show the plot\n",
    "plt.show()\n",
    "\n",
    "# Returning the calculated metrics\n",
    "accuracy_mlp, misclassification_rate_mlp, precision_mlp, recall_mlp, f_measure_mlp, specificity_mlp\n",
    "\n"
   ]
  },
  {
   "cell_type": "markdown",
   "id": "72baa61a",
   "metadata": {
    "papermill": {
     "duration": 0.008646,
     "end_time": "2023-12-12T21:28:11.501584",
     "exception": false,
     "start_time": "2023-12-12T21:28:11.492938",
     "status": "completed"
    },
    "tags": []
   },
   "source": [
    "# 4. KNeighborsClassifier"
   ]
  },
  {
   "cell_type": "code",
   "execution_count": 7,
   "id": "870eace1",
   "metadata": {
    "execution": {
     "iopub.execute_input": "2023-12-12T21:28:11.521457Z",
     "iopub.status.busy": "2023-12-12T21:28:11.521022Z",
     "iopub.status.idle": "2023-12-12T21:28:11.912825Z",
     "shell.execute_reply": "2023-12-12T21:28:11.911687Z"
    },
    "papermill": {
     "duration": 0.404978,
     "end_time": "2023-12-12T21:28:11.915551",
     "exception": false,
     "start_time": "2023-12-12T21:28:11.510573",
     "status": "completed"
    },
    "tags": []
   },
   "outputs": [
    {
     "data": {
      "image/png": "[encoded data removed]",
      "text/plain": [
       "<Figure size 800x600 with 2 Axes>"
      ]
     },
     "metadata": {},
     "output_type": "display_data"
    },
    {
     "data": {
      "text/plain": [
       "(0.4222222222222222,\n",
       " 0.5777777777777777,\n",
       " 0.3793103448275862,\n",
       " 0.24444444444444444,\n",
       " 0.29729729729729726,\n",
       " 0.6)"
      ]
     },
     "execution_count": 7,
     "metadata": {},
     "output_type": "execute_result"
    }
   ],
   "source": [
    "from sklearn.neighbors import KNeighborsClassifier\n",
    "\n",
    "knc = KNeighborsClassifier(n_neighbors=5)\n",
    "knc.fit(X_train, y_train_encoded)\n",
    "\n",
    "# Predictions\n",
    "y_pred_knc = knc.predict(X_test)\n",
    "\n",
    "# Confusion Matrix for KNeighborsClassifier\n",
    "conf_matrix_knc = confusion_matrix(y_test_encoded, y_pred_knc)\n",
    "\n",
    "# Calculating various metrics\n",
    "accuracy_knc = accuracy_score(y_test_encoded, y_pred_knc)\n",
    "misclassification_rate_knc = 1 - accuracy_knc\n",
    "precision_knc = precision_score(y_test_encoded, y_pred_knc)\n",
    "recall_knc = recall_score(y_test_encoded, y_pred_knc)\n",
    "f_measure_knc = f1_score(y_test_encoded, y_pred_knc)\n",
    "\n",
    "# Specificity calculation for KNeighborsClassifier\n",
    "TN_knc, FP_knc, FN_knc, TP_knc = conf_matrix_knc.ravel()\n",
    "specificity_knc = TN_knc / (TN_knc + FP_knc)\n",
    "\n",
    "# Visualize the Confusion Matrix for KNeighborsClassifier\n",
    "plt.figure(figsize=(8, 6))\n",
    "sns.heatmap(conf_matrix_knc, annot=True, fmt='g', cmap='Blues')\n",
    "plt.xlabel('Predicted label')\n",
    "plt.ylabel('True label')\n",
    "plt.title('Confusion Matrix - K Neighbors Classifier')\n",
    "\n",
    "# Show the plot\n",
    "plt.show()\n",
    "\n",
    "# Returning the calculated metrics\n",
    "accuracy_knc, misclassification_rate_knc, precision_knc, recall_knc, f_measure_knc, specificity_knc\n",
    "\n"
   ]
  },
  {
   "cell_type": "markdown",
   "id": "7a83e530",
   "metadata": {
    "papermill": {
     "duration": 0.009219,
     "end_time": "2023-12-12T21:28:11.934444",
     "exception": false,
     "start_time": "2023-12-12T21:28:11.925225",
     "status": "completed"
    },
    "tags": []
   },
   "source": [
    "# 5. ClassifierChain"
   ]
  },
  {
   "cell_type": "code",
   "execution_count": 8,
   "id": "2040ad66",
   "metadata": {
    "execution": {
     "iopub.execute_input": "2023-12-12T21:28:11.956156Z",
     "iopub.status.busy": "2023-12-12T21:28:11.954911Z",
     "iopub.status.idle": "2023-12-12T21:28:12.338889Z",
     "shell.execute_reply": "2023-12-12T21:28:12.337685Z"
    },
    "papermill": {
     "duration": 0.397792,
     "end_time": "2023-12-12T21:28:12.341747",
     "exception": false,
     "start_time": "2023-12-12T21:28:11.943955",
     "status": "completed"
    },
    "tags": []
   },
   "outputs": [
    {
     "data": {
      "image/png": "[encoded data removed]",
      "text/plain": [
       "<Figure size 800x600 with 2 Axes>"
      ]
     },
     "metadata": {},
     "output_type": "display_data"
    },
    {
     "data": {
      "text/plain": [
       "(0.5333333333333333,\n",
       " 0.4666666666666667,\n",
       " 0.8,\n",
       " 0.08888888888888889,\n",
       " 0.15999999999999998,\n",
       " 0.9777777777777777)"
      ]
     },
     "execution_count": 8,
     "metadata": {},
     "output_type": "execute_result"
    }
   ],
   "source": [
    "from sklearn.multioutput import ClassifierChain\n",
    "from sklearn.linear_model import LogisticRegression\n",
    "\n",
    "# Initialize a base classifier for the ClassifierChain\n",
    "base_classifier = LogisticRegression()\n",
    "\n",
    "# Initialize the ClassifierChain with the base classifier\n",
    "chain = ClassifierChain(base_classifier, order='random', random_state=0)\n",
    "chain.fit(X_train, y_train_encoded.reshape(-1, 1))\n",
    "\n",
    "# Predictions\n",
    "y_pred_chain = chain.predict(X_test).flatten()\n",
    "\n",
    "# Confusion Matrix for ClassifierChain\n",
    "conf_matrix_chain = confusion_matrix(y_test_encoded, y_pred_chain)\n",
    "\n",
    "# Calculating various metrics\n",
    "accuracy_chain = accuracy_score(y_test_encoded, y_pred_chain)\n",
    "misclassification_rate_chain = 1 - accuracy_chain\n",
    "precision_chain = precision_score(y_test_encoded, y_pred_chain)\n",
    "recall_chain = recall_score(y_test_encoded, y_pred_chain)\n",
    "f_measure_chain = f1_score(y_test_encoded, y_pred_chain)\n",
    "\n",
    "# Specificity calculation for ClassifierChain\n",
    "TN_chain, FP_chain, FN_chain, TP_chain = conf_matrix_chain.ravel()\n",
    "specificity_chain = TN_chain / (TN_chain + FP_chain)\n",
    "\n",
    "# Visualize the Confusion Matrix for ClassifierChain\n",
    "plt.figure(figsize=(8, 6))\n",
    "sns.heatmap(conf_matrix_chain, annot=True, fmt='g', cmap='Blues')\n",
    "plt.xlabel('Predicted label')\n",
    "plt.ylabel('True label')\n",
    "plt.title('Confusion Matrix - Classifier Chain')\n",
    "\n",
    "# Show the plot\n",
    "plt.show()\n",
    "\n",
    "# Returning the calculated metrics\n",
    "accuracy_chain, misclassification_rate_chain, precision_chain, recall_chain, f_measure_chain, specificity_chain\n",
    "\n"
   ]
  },
  {
   "cell_type": "markdown",
   "id": "c78d7cb0",
   "metadata": {
    "papermill": {
     "duration": 0.009945,
     "end_time": "2023-12-12T21:28:12.361964",
     "exception": false,
     "start_time": "2023-12-12T21:28:12.352019",
     "status": "completed"
    },
    "tags": []
   },
   "source": [
    "# 6. SGDClassifier"
   ]
  },
  {
   "cell_type": "code",
   "execution_count": 9,
   "id": "5c9697d6",
   "metadata": {
    "execution": {
     "iopub.execute_input": "2023-12-12T21:28:12.384236Z",
     "iopub.status.busy": "2023-12-12T21:28:12.383778Z",
     "iopub.status.idle": "2023-12-12T21:28:12.775618Z",
     "shell.execute_reply": "2023-12-12T21:28:12.774314Z"
    },
    "papermill": {
     "duration": 0.406229,
     "end_time": "2023-12-12T21:28:12.778300",
     "exception": false,
     "start_time": "2023-12-12T21:28:12.372071",
     "status": "completed"
    },
    "tags": []
   },
   "outputs": [
    {
     "name": "stderr",
     "output_type": "stream",
     "text": [
      "/opt/conda/lib/python3.10/site-packages/sklearn/metrics/_classification.py:1344: UndefinedMetricWarning: Precision is ill-defined and being set to 0.0 due to no predicted samples. Use `zero_division` parameter to control this behavior.\n",
      "  _warn_prf(average, modifier, msg_start, len(result))\n"
     ]
    },
    {
     "data": {
      "image/png": "[encoded data removed]",
      "text/plain": [
       "<Figure size 800x600 with 2 Axes>"
      ]
     },
     "metadata": {},
     "output_type": "display_data"
    },
    {
     "data": {
      "text/plain": [
       "(0.5, 0.5, 0.0, 0.0, 0.0, 1.0)"
      ]
     },
     "execution_count": 9,
     "metadata": {},
     "output_type": "execute_result"
    }
   ],
   "source": [
    "from sklearn.linear_model import SGDClassifier\n",
    "\n",
    "# Initialize and train the SGDClassifier\n",
    "sgd = SGDClassifier(max_iter=1000, tol=1e-3, random_state=0)\n",
    "sgd.fit(X_train, y_train_encoded)\n",
    "\n",
    "# Predictions\n",
    "y_pred_sgd = sgd.predict(X_test)\n",
    "\n",
    "# Confusion Matrix for SGDClassifier\n",
    "conf_matrix_sgd = confusion_matrix(y_test_encoded, y_pred_sgd)\n",
    "\n",
    "# Calculating various metrics\n",
    "accuracy_sgd = accuracy_score(y_test_encoded, y_pred_sgd)\n",
    "misclassification_rate_sgd = 1 - accuracy_sgd\n",
    "precision_sgd = precision_score(y_test_encoded, y_pred_sgd)\n",
    "recall_sgd = recall_score(y_test_encoded, y_pred_sgd)\n",
    "f_measure_sgd = f1_score(y_test_encoded, y_pred_sgd)\n",
    "\n",
    "# Specificity calculation for SGDClassifier\n",
    "TN_sgd, FP_sgd, FN_sgd, TP_sgd = conf_matrix_sgd.ravel()\n",
    "specificity_sgd = TN_sgd / (TN_sgd + FP_sgd)\n",
    "\n",
    "# Visualize the Confusion Matrix for SGDClassifier\n",
    "plt.figure(figsize=(8, 6))\n",
    "sns.heatmap(conf_matrix_sgd, annot=True, fmt='g', cmap='Blues')\n",
    "plt.xlabel('Predicted label')\n",
    "plt.ylabel('True label')\n",
    "plt.title('Confusion Matrix - SGD Classifier')\n",
    "\n",
    "# Show the plot\n",
    "plt.show()\n",
    "\n",
    "# Returning the calculated metrics\n",
    "accuracy_sgd, misclassification_rate_sgd, precision_sgd, recall_sgd, f_measure_sgd, specificity_sgd\n",
    "\n"
   ]
  },
  {
   "cell_type": "markdown",
   "id": "9ece18b1",
   "metadata": {
    "papermill": {
     "duration": 0.010726,
     "end_time": "2023-12-12T21:28:12.800415",
     "exception": false,
     "start_time": "2023-12-12T21:28:12.789689",
     "status": "completed"
    },
    "tags": []
   },
   "source": [
    "# 7. RidgeClassifierCV"
   ]
  },
  {
   "cell_type": "code",
   "execution_count": 10,
   "id": "75a5b7ba",
   "metadata": {
    "execution": {
     "iopub.execute_input": "2023-12-12T21:28:12.824168Z",
     "iopub.status.busy": "2023-12-12T21:28:12.823762Z",
     "iopub.status.idle": "2023-12-12T21:28:13.227815Z",
     "shell.execute_reply": "2023-12-12T21:28:13.226912Z"
    },
    "papermill": {
     "duration": 0.419053,
     "end_time": "2023-12-12T21:28:13.230464",
     "exception": false,
     "start_time": "2023-12-12T21:28:12.811411",
     "status": "completed"
    },
    "tags": []
   },
   "outputs": [
    {
     "data": {
      "image/png": "[encoded data removed]",
      "text/plain": [
       "<Figure size 800x600 with 2 Axes>"
      ]
     },
     "metadata": {},
     "output_type": "display_data"
    },
    {
     "data": {
      "text/plain": [
       "(0.5222222222222223,\n",
       " 0.47777777777777775,\n",
       " 0.5416666666666666,\n",
       " 0.28888888888888886,\n",
       " 0.3768115942028985,\n",
       " 0.7555555555555555)"
      ]
     },
     "execution_count": 10,
     "metadata": {},
     "output_type": "execute_result"
    }
   ],
   "source": [
    "from sklearn.linear_model import RidgeClassifierCV\n",
    "\n",
    "# Initialize and train the RidgeClassifierCV\n",
    "ridge_cv = RidgeClassifierCV()\n",
    "ridge_cv.fit(X_train, y_train_encoded)\n",
    "\n",
    "# Predictions\n",
    "y_pred_ridge_cv = ridge_cv.predict(X_test)\n",
    "\n",
    "# Confusion Matrix for RidgeClassifierCV\n",
    "conf_matrix_ridge_cv = confusion_matrix(y_test_encoded, y_pred_ridge_cv)\n",
    "\n",
    "# Calculating various metrics\n",
    "accuracy_ridge_cv = accuracy_score(y_test_encoded, y_pred_ridge_cv)\n",
    "misclassification_rate_ridge_cv = 1 - accuracy_ridge_cv\n",
    "precision_ridge_cv = precision_score(y_test_encoded, y_pred_ridge_cv)\n",
    "recall_ridge_cv = recall_score(y_test_encoded, y_pred_ridge_cv)\n",
    "f_measure_ridge_cv = f1_score(y_test_encoded, y_pred_ridge_cv)\n",
    "\n",
    "# Specificity calculation for RidgeClassifierCV\n",
    "TN_ridge_cv, FP_ridge_cv, FN_ridge_cv, TP_ridge_cv = conf_matrix_ridge_cv.ravel()\n",
    "specificity_ridge_cv = TN_ridge_cv / (TN_ridge_cv + FP_ridge_cv)\n",
    "\n",
    "# Visualize the Confusion Matrix for RidgeClassifierCV\n",
    "plt.figure(figsize=(8, 6))\n",
    "sns.heatmap(conf_matrix_ridge_cv, annot=True, fmt='g', cmap='Blues')\n",
    "plt.xlabel('Predicted label')\n",
    "plt.ylabel('True label')\n",
    "plt.title('Confusion Matrix - Ridge Classifier CV')\n",
    "\n",
    "# Show the plot\n",
    "plt.show()\n",
    "\n",
    "# Returning the calculated metrics\n",
    "accuracy_ridge_cv, misclassification_rate_ridge_cv, precision_ridge_cv, recall_ridge_cv, f_measure_ridge_cv, specificity_ridge_cv\n",
    "\n"
   ]
  },
  {
   "cell_type": "markdown",
   "id": "046b2d1c",
   "metadata": {
    "papermill": {
     "duration": 0.011834,
     "end_time": "2023-12-12T21:28:13.254357",
     "exception": false,
     "start_time": "2023-12-12T21:28:13.242523",
     "status": "completed"
    },
    "tags": []
   },
   "source": [
    "# 8. "
   ]
  },
  {
   "cell_type": "code",
   "execution_count": null,
   "id": "9b2d27c5",
   "metadata": {
    "papermill": {
     "duration": 0.011491,
     "end_time": "2023-12-12T21:28:13.277471",
     "exception": false,
     "start_time": "2023-12-12T21:28:13.265980",
     "status": "completed"
    },
    "tags": []
   },
   "outputs": [],
   "source": []
  }
 ],
 "metadata": {
  "kaggle": {
   "accelerator": "none",
   "dataSources": [
    {
     "datasetId": 4155054,
     "sourceId": 7187018,
     "sourceType": "datasetVersion"
    }
   ],
   "dockerImageVersionId": 30615,
   "isGpuEnabled": false,
   "isInternetEnabled": true,
   "language": "python",
   "sourceType": "notebook"
  },
  "kernelspec": {
   "display_name": "Python 3",
   "language": "python",
   "name": "python3"
  },
  "language_info": {
   "codemirror_mode": {
    "name": "ipython",
    "version": 3
   },
   "file_extension": ".py",
   "mimetype": "text/x-python",
   "name": "python",
   "nbconvert_exporter": "python",
   "pygments_lexer": "ipython3",
   "version": "3.10.12"
  },
  "papermill": {
   "default_parameters": {},
   "duration": 9.921582,
   "end_time": "2023-12-12T21:28:13.910733",
   "environment_variables": {},
   "exception": null,
   "input_path": "__notebook__.ipynb",
   "output_path": "__notebook__.ipynb",
   "parameters": {},
   "start_time": "2023-12-12T21:28:03.989151",
   "version": "2.4.0"
  }
 },
 "nbformat": 4,
 "nbformat_minor": 5
}
