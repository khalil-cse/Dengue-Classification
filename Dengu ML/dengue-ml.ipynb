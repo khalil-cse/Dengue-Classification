{
 "cells": [
  {
   "cell_type": "code",
   "execution_count": 1,
   "id": "50e81508",
   "metadata": {
    "execution": {
     "iopub.execute_input": "2023-12-20T21:42:41.548337Z",
     "iopub.status.busy": "2023-12-20T21:42:41.547074Z",
     "iopub.status.idle": "2023-12-20T21:42:44.887890Z",
     "shell.execute_reply": "2023-12-20T21:42:44.886714Z"
    },
    "papermill": {
     "duration": 3.364587,
     "end_time": "2023-12-20T21:42:44.890959",
     "exception": false,
     "start_time": "2023-12-20T21:42:41.526372",
     "status": "completed"
    },
    "tags": []
   },
   "outputs": [],
   "source": [
    "import pandas as pd\n",
    "from sklearn.preprocessing import StandardScaler, OneHotEncoder\n",
    "from lightgbm import LGBMClassifier\n",
    "from sklearn.metrics import classification_report, confusion_matrix"
   ]
  },
  {
   "cell_type": "code",
   "execution_count": 2,
   "id": "45c02ccf",
   "metadata": {
    "_cell_guid": "b1076dfc-b9ad-4769-8c92-a6c4dae69d19",
    "_uuid": "8f2839f25d086af736a60e9eeb907d3b93b6e0e5",
    "execution": {
     "iopub.execute_input": "2023-12-20T21:42:44.929431Z",
     "iopub.status.busy": "2023-12-20T21:42:44.928982Z",
     "iopub.status.idle": "2023-12-20T21:42:44.994510Z",
     "shell.execute_reply": "2023-12-20T21:42:44.993264Z"
    },
    "papermill": {
     "duration": 0.087615,
     "end_time": "2023-12-20T21:42:44.997130",
     "exception": false,
     "start_time": "2023-12-20T21:42:44.909515",
     "status": "completed"
    },
    "tags": []
   },
   "outputs": [
    {
     "data": {
      "text/html": [
       "<div>\n",
       "<style scoped>\n",
       "    .dataframe tbody tr th:only-of-type {\n",
       "        vertical-align: middle;\n",
       "    }\n",
       "\n",
       "    .dataframe tbody tr th {\n",
       "        vertical-align: top;\n",
       "    }\n",
       "\n",
       "    .dataframe thead th {\n",
       "        text-align: right;\n",
       "    }\n",
       "</style>\n",
       "<table border=\"1\" class=\"dataframe\">\n",
       "  <thead>\n",
       "    <tr style=\"text-align: right;\">\n",
       "      <th></th>\n",
       "      <th>Age</th>\n",
       "      <th>Sex</th>\n",
       "      <th>Month Affected</th>\n",
       "      <th>Residence Address</th>\n",
       "      <th>Duration of fever (days)</th>\n",
       "      <th>Current body temperature (°C)</th>\n",
       "      <th>White Blood Cell (WBC) Count</th>\n",
       "      <th>Back pain in eyes</th>\n",
       "      <th>Joint pain</th>\n",
       "      <th>Muscle pain</th>\n",
       "      <th>...</th>\n",
       "      <th>Rash</th>\n",
       "      <th>Pleural effusion</th>\n",
       "      <th>Ascites</th>\n",
       "      <th>Bleeding</th>\n",
       "      <th>Slow heart rate</th>\n",
       "      <th>Igg</th>\n",
       "      <th>Igm</th>\n",
       "      <th>NS1</th>\n",
       "      <th>Travelling history</th>\n",
       "      <th>Headache</th>\n",
       "    </tr>\n",
       "  </thead>\n",
       "  <tbody>\n",
       "    <tr>\n",
       "      <th>0</th>\n",
       "      <td>13</td>\n",
       "      <td>Male</td>\n",
       "      <td>May</td>\n",
       "      <td>595 Dennis Fields Apt. 416\\nGilbertfurt, MT 61961</td>\n",
       "      <td>11</td>\n",
       "      <td>38.2</td>\n",
       "      <td>11257</td>\n",
       "      <td>Low</td>\n",
       "      <td>Medium</td>\n",
       "      <td>High</td>\n",
       "      <td>...</td>\n",
       "      <td>Medium</td>\n",
       "      <td>Medium</td>\n",
       "      <td>Medium</td>\n",
       "      <td>Medium</td>\n",
       "      <td>Medium</td>\n",
       "      <td>Negative</td>\n",
       "      <td>Positive</td>\n",
       "      <td>Positive</td>\n",
       "      <td>Yes</td>\n",
       "      <td>High</td>\n",
       "    </tr>\n",
       "    <tr>\n",
       "      <th>1</th>\n",
       "      <td>4</td>\n",
       "      <td>Female</td>\n",
       "      <td>January</td>\n",
       "      <td>Unit 4051 Box 4377\\nDPO AP 53265</td>\n",
       "      <td>8</td>\n",
       "      <td>38.7</td>\n",
       "      <td>9824</td>\n",
       "      <td>Low</td>\n",
       "      <td>Low</td>\n",
       "      <td>High</td>\n",
       "      <td>...</td>\n",
       "      <td>Medium</td>\n",
       "      <td>Medium</td>\n",
       "      <td>High</td>\n",
       "      <td>Low</td>\n",
       "      <td>Medium</td>\n",
       "      <td>Negative</td>\n",
       "      <td>Negative</td>\n",
       "      <td>Positive</td>\n",
       "      <td>Yes</td>\n",
       "      <td>High</td>\n",
       "    </tr>\n",
       "    <tr>\n",
       "      <th>2</th>\n",
       "      <td>68</td>\n",
       "      <td>Female</td>\n",
       "      <td>October</td>\n",
       "      <td>6835 Eric Cliffs Apt. 831\\nNew Rebeccamouth, K...</td>\n",
       "      <td>14</td>\n",
       "      <td>38.9</td>\n",
       "      <td>4731</td>\n",
       "      <td>High</td>\n",
       "      <td>Low</td>\n",
       "      <td>Medium</td>\n",
       "      <td>...</td>\n",
       "      <td>High</td>\n",
       "      <td>Low</td>\n",
       "      <td>Medium</td>\n",
       "      <td>Low</td>\n",
       "      <td>Low</td>\n",
       "      <td>Negative</td>\n",
       "      <td>Negative</td>\n",
       "      <td>Negative</td>\n",
       "      <td>Yes</td>\n",
       "      <td>Medium</td>\n",
       "    </tr>\n",
       "    <tr>\n",
       "      <th>3</th>\n",
       "      <td>73</td>\n",
       "      <td>Male</td>\n",
       "      <td>July</td>\n",
       "      <td>5947 Tyler Forges\\nPageview, ND 63430</td>\n",
       "      <td>11</td>\n",
       "      <td>37.8</td>\n",
       "      <td>5055</td>\n",
       "      <td>Medium</td>\n",
       "      <td>High</td>\n",
       "      <td>Medium</td>\n",
       "      <td>...</td>\n",
       "      <td>Low</td>\n",
       "      <td>High</td>\n",
       "      <td>High</td>\n",
       "      <td>Medium</td>\n",
       "      <td>High</td>\n",
       "      <td>Positive</td>\n",
       "      <td>Positive</td>\n",
       "      <td>Positive</td>\n",
       "      <td>No</td>\n",
       "      <td>Medium</td>\n",
       "    </tr>\n",
       "    <tr>\n",
       "      <th>4</th>\n",
       "      <td>31</td>\n",
       "      <td>Female</td>\n",
       "      <td>April</td>\n",
       "      <td>73008 Brown Springs\\nMichaelville, WI 90268</td>\n",
       "      <td>4</td>\n",
       "      <td>38.4</td>\n",
       "      <td>5755</td>\n",
       "      <td>High</td>\n",
       "      <td>Medium</td>\n",
       "      <td>Medium</td>\n",
       "      <td>...</td>\n",
       "      <td>Low</td>\n",
       "      <td>Medium</td>\n",
       "      <td>High</td>\n",
       "      <td>Low</td>\n",
       "      <td>High</td>\n",
       "      <td>Negative</td>\n",
       "      <td>Negative</td>\n",
       "      <td>Negative</td>\n",
       "      <td>Yes</td>\n",
       "      <td>Low</td>\n",
       "    </tr>\n",
       "  </tbody>\n",
       "</table>\n",
       "<p>5 rows × 25 columns</p>\n",
       "</div>"
      ],
      "text/plain": [
       "   Age     Sex Month Affected  \\\n",
       "0   13    Male            May   \n",
       "1    4  Female        January   \n",
       "2   68  Female        October   \n",
       "3   73    Male           July   \n",
       "4   31  Female          April   \n",
       "\n",
       "                                   Residence Address  \\\n",
       "0  595 Dennis Fields Apt. 416\\nGilbertfurt, MT 61961   \n",
       "1                   Unit 4051 Box 4377\\nDPO AP 53265   \n",
       "2  6835 Eric Cliffs Apt. 831\\nNew Rebeccamouth, K...   \n",
       "3              5947 Tyler Forges\\nPageview, ND 63430   \n",
       "4        73008 Brown Springs\\nMichaelville, WI 90268   \n",
       "\n",
       "   Duration of fever (days)  Current body temperature (°C)  \\\n",
       "0                        11                           38.2   \n",
       "1                         8                           38.7   \n",
       "2                        14                           38.9   \n",
       "3                        11                           37.8   \n",
       "4                         4                           38.4   \n",
       "\n",
       "   White Blood Cell (WBC) Count Back pain in eyes Joint pain Muscle pain  ...  \\\n",
       "0                         11257               Low     Medium        High  ...   \n",
       "1                          9824               Low        Low        High  ...   \n",
       "2                          4731              High        Low      Medium  ...   \n",
       "3                          5055            Medium       High      Medium  ...   \n",
       "4                          5755              High     Medium      Medium  ...   \n",
       "\n",
       "     Rash Pleural effusion Ascites  Bleeding Slow heart rate       Igg  \\\n",
       "0  Medium           Medium  Medium    Medium          Medium  Negative   \n",
       "1  Medium           Medium    High       Low          Medium  Negative   \n",
       "2    High              Low  Medium       Low             Low  Negative   \n",
       "3     Low             High    High    Medium            High  Positive   \n",
       "4     Low           Medium    High       Low            High  Negative   \n",
       "\n",
       "        Igm       NS1 Travelling history Headache  \n",
       "0  Positive  Positive                Yes     High  \n",
       "1  Negative  Positive                Yes     High  \n",
       "2  Negative  Negative                Yes   Medium  \n",
       "3  Positive  Positive                 No   Medium  \n",
       "4  Negative  Negative                Yes      Low  \n",
       "\n",
       "[5 rows x 25 columns]"
      ]
     },
     "execution_count": 2,
     "metadata": {},
     "output_type": "execute_result"
    }
   ],
   "source": [
    "file_path = '/kaggle/input/dengue/dengue_dataset.csv'\n",
    "dengue_data = pd.read_csv(file_path)\n",
    "dengue_data.head()"
   ]
  },
  {
   "cell_type": "code",
   "execution_count": 3,
   "id": "000a3334",
   "metadata": {
    "execution": {
     "iopub.execute_input": "2023-12-20T21:42:45.036557Z",
     "iopub.status.busy": "2023-12-20T21:42:45.036110Z",
     "iopub.status.idle": "2023-12-20T21:42:45.078061Z",
     "shell.execute_reply": "2023-12-20T21:42:45.076554Z"
    },
    "papermill": {
     "duration": 0.065027,
     "end_time": "2023-12-20T21:42:45.080865",
     "exception": false,
     "start_time": "2023-12-20T21:42:45.015838",
     "status": "completed"
    },
    "tags": []
   },
   "outputs": [
    {
     "name": "stdout",
     "output_type": "stream",
     "text": [
      "              Age  Duration of fever (days)  Current body temperature (°C)  \\\n",
      "count  300.000000                 300.00000                     300.000000   \n",
      "mean    48.100000                   7.91000                      38.336333   \n",
      "std     28.702662                   4.20088                       0.987165   \n",
      "min      1.000000                   1.00000                      36.500000   \n",
      "25%     21.750000                   5.00000                      37.500000   \n",
      "50%     46.500000                   8.00000                      38.300000   \n",
      "75%     73.000000                  12.00000                      39.200000   \n",
      "max     98.000000                  15.00000                      40.000000   \n",
      "\n",
      "       White Blood Cell (WBC) Count  \n",
      "count                    300.000000  \n",
      "mean                    7443.440000  \n",
      "std                     2639.825925  \n",
      "min                     3084.000000  \n",
      "25%                     5045.500000  \n",
      "50%                     7423.000000  \n",
      "75%                     9765.500000  \n",
      "max                    11976.000000  \n",
      "Sex\n",
      "Male      162\n",
      "Female    138\n",
      "Name: count, dtype: int64\n",
      "Month Affected\n",
      "August       31\n",
      "May          30\n",
      "March        28\n",
      "February     26\n",
      "December     25\n",
      "June         25\n",
      "January      24\n",
      "November     24\n",
      "October      23\n",
      "April        22\n",
      "July         21\n",
      "September    21\n",
      "Name: count, dtype: int64\n",
      "        Back pain in eyes  Joint pain  Muscle pain  Rash\n",
      "High                   97          98          100   102\n",
      "Low                   101         109          104   104\n",
      "Medium                102          93           96    94\n"
     ]
    }
   ],
   "source": [
    "numerical_cols = ['Age', 'Duration of fever (days)', 'Current body temperature (°C)', 'White Blood Cell (WBC) Count']\n",
    "desc_stats = dengue_data[numerical_cols].describe()\n",
    "gender_distribution = dengue_data['Sex'].value_counts()\n",
    "monthly_distribution = dengue_data['Month Affected'].value_counts()\n",
    "symptoms = ['Back pain in eyes', 'Joint pain', 'Muscle pain', 'Rash']\n",
    "symptoms_distribution = dengue_data[symptoms].apply(pd.value_counts)\n",
    "print(desc_stats)\n",
    "print(gender_distribution)\n",
    "print(monthly_distribution)\n",
    "print(symptoms_distribution)"
   ]
  },
  {
   "cell_type": "markdown",
   "id": "d07502ed",
   "metadata": {
    "papermill": {
     "duration": 0.01903,
     "end_time": "2023-12-20T21:42:45.118786",
     "exception": false,
     "start_time": "2023-12-20T21:42:45.099756",
     "status": "completed"
    },
    "tags": []
   },
   "source": [
    "A brief overview of the first few entries in the dataset:\n",
    "\n",
    "- **Age**: The age of the patient.\n",
    "- **Sex**: The gender of the patient (Male/Female).\n",
    "- **Month Affected**: The month in which the patient was affected.\n",
    "- **Residence Address**: Address of the patient.\n",
    "- **Duration of fever (days)**: How long the patient had a fever.\n",
    "- **Current body temperature (°C)**: The current body temperature of the patient.\n",
    "- **White Blood Cell (WBC) Count**: WBC count of the patient.\n",
    "- **Symptoms and conditions**: Various columns such as 'Back pain in eyes', 'Joint pain', 'Muscle pain', etc., indicating the severity of these symptoms (Low/Medium/High).\n",
    "\n",
    "1. Descriptive statistics of numerical features like age, duration of fever, body temperature, and WBC count.\n",
    "2. Distribution of patients by gender.\n",
    "3. Distribution of cases over months.\n",
    "4. Frequency of different symptoms.\n",
    "\n",
    "summary of the basic analysis of the Dengue dataset:\n",
    "\n",
    "### Descriptive Statistics\n",
    "- **Age**: Ranges from 1 to 98 years, with an average of approximately 48 years.\n",
    "- **Duration of Fever**: Varies between 1 to 15 days, averaging around 7.9 days.\n",
    "- **Body Temperature**: Ranges from 36.5°C to 40.0°C, with a mean of 38.3°C.\n",
    "- **WBC Count**: Fluctuates between 3084 to 11976, with an average count of 7443.\n",
    "\n",
    "### Gender Distribution\n",
    "- **Male**: 162 cases\n",
    "- **Female**: 138 cases\n",
    "\n",
    "### Distribution Over Months\n",
    "- The cases are fairly distributed throughout the year, with August having the highest number of cases (31) and September and July having the lowest (21 each).\n",
    "\n",
    "### Frequency of Symptoms\n",
    "- **Back Pain in Eyes**: High in 97 cases, Medium in 102 cases, Low in 101 cases.\n",
    "- **Joint Pain**: High in 98 cases, Medium in 93 cases, Low in 109 cases.\n",
    "- **Muscle Pain**: High in 100 cases, Medium in 96 cases, Low in 104 cases.\n",
    "- **Rash**: High in 102 cases, Medium in 94 cases, Low in 104 cases.\n"
   ]
  },
  {
   "cell_type": "code",
   "execution_count": 4,
   "id": "f1733011",
   "metadata": {
    "execution": {
     "iopub.execute_input": "2023-12-20T21:42:45.159798Z",
     "iopub.status.busy": "2023-12-20T21:42:45.158629Z",
     "iopub.status.idle": "2023-12-20T21:42:45.345901Z",
     "shell.execute_reply": "2023-12-20T21:42:45.344534Z"
    },
    "papermill": {
     "duration": 0.210765,
     "end_time": "2023-12-20T21:42:45.348589",
     "exception": false,
     "start_time": "2023-12-20T21:42:45.137824",
     "status": "completed"
    },
    "tags": []
   },
   "outputs": [
    {
     "name": "stdout",
     "output_type": "stream",
     "text": [
      "0.6166666666666667\n",
      "              precision    recall  f1-score   support\n",
      "\n",
      "           0       0.77      0.49      0.60        35\n",
      "           1       0.53      0.80      0.63        25\n",
      "\n",
      "    accuracy                           0.62        60\n",
      "   macro avg       0.65      0.64      0.62        60\n",
      "weighted avg       0.67      0.62      0.61        60\n",
      "\n"
     ]
    }
   ],
   "source": [
    "from sklearn.model_selection import train_test_split\n",
    "from sklearn.linear_model import LogisticRegression\n",
    "from sklearn.metrics import accuracy_score, classification_report\n",
    "from sklearn.preprocessing import LabelEncoder\n",
    "\n",
    "\n",
    "label_encoder = LabelEncoder()\n",
    "categorical_cols = dengue_data.select_dtypes(include=['object']).columns\n",
    "for col in categorical_cols:\n",
    "    dengue_data[col] = label_encoder.fit_transform(dengue_data[col])\n",
    "\n",
    "y = dengue_data['Igm']\n",
    "X = dengue_data.drop('Igm', axis=1)\n",
    "\n",
    "\n",
    "X_train, X_test, y_train, y_test = train_test_split(X, y, test_size=0.2, random_state=42)\n",
    "\n",
    "\n",
    "model = LogisticRegression(max_iter=1000)\n",
    "model.fit(X_train, y_train)\n",
    "\n",
    "\n",
    "y_pred = model.predict(X_test)\n",
    "\n",
    "accuracy = accuracy_score(y_test, y_pred)\n",
    "report = classification_report(y_test, y_pred)\n",
    "\n",
    "print(accuracy)\n",
    "print(report)"
   ]
  },
  {
   "cell_type": "code",
   "execution_count": 5,
   "id": "fdfac25f",
   "metadata": {
    "execution": {
     "iopub.execute_input": "2023-12-20T21:42:45.388834Z",
     "iopub.status.busy": "2023-12-20T21:42:45.388437Z",
     "iopub.status.idle": "2023-12-20T21:42:45.395592Z",
     "shell.execute_reply": "2023-12-20T21:42:45.394307Z"
    },
    "papermill": {
     "duration": 0.030316,
     "end_time": "2023-12-20T21:42:45.397987",
     "exception": false,
     "start_time": "2023-12-20T21:42:45.367671",
     "status": "completed"
    },
    "tags": []
   },
   "outputs": [],
   "source": [
    "from sklearn.model_selection import train_test_split\n",
    "from sklearn.linear_model import LogisticRegression\n",
    "from sklearn.metrics import accuracy_score, classification_report\n",
    "from sklearn.preprocessing import LabelEncoder\n",
    "\n",
    "label_encoder = LabelEncoder()\n",
    "categorical_cols = dengue_data.select_dtypes(include=['object']).columns"
   ]
  },
  {
   "cell_type": "code",
   "execution_count": 6,
   "id": "d9e424a5",
   "metadata": {
    "execution": {
     "iopub.execute_input": "2023-12-20T21:42:45.438550Z",
     "iopub.status.busy": "2023-12-20T21:42:45.437386Z",
     "iopub.status.idle": "2023-12-20T21:42:45.467574Z",
     "shell.execute_reply": "2023-12-20T21:42:45.466414Z"
    },
    "papermill": {
     "duration": 0.052844,
     "end_time": "2023-12-20T21:42:45.469827",
     "exception": false,
     "start_time": "2023-12-20T21:42:45.416983",
     "status": "completed"
    },
    "tags": []
   },
   "outputs": [
    {
     "name": "stderr",
     "output_type": "stream",
     "text": [
      "/opt/conda/lib/python3.10/site-packages/sklearn/preprocessing/_encoders.py:868: FutureWarning: `sparse` was renamed to `sparse_output` in version 1.2 and will be removed in 1.4. `sparse_output` is ignored unless you leave `sparse` to its default value.\n",
      "  warnings.warn(\n"
     ]
    },
    {
     "data": {
      "text/plain": [
       "((240, 24), (60, 24))"
      ]
     },
     "execution_count": 6,
     "metadata": {},
     "output_type": "execute_result"
    }
   ],
   "source": [
    "# Fit the encoder on the entire dataset\n",
    "encoder = OneHotEncoder(sparse=False)\n",
    "encoder.fit(dengue_data[categorical_cols])\n",
    "\n",
    "\n",
    "X_train_categorical = encoder.transform(X_train[categorical_cols])\n",
    "X_test_categorical = encoder.transform(X_test[categorical_cols])\n",
    "\n",
    "# Create DataFrames from the encoded features\n",
    "X_train_categorical_df = pd.DataFrame(X_train_categorical, columns=encoder.get_feature_names_out(categorical_cols))\n",
    "X_test_categorical_df = pd.DataFrame(X_test_categorical, columns=encoder.get_feature_names_out(categorical_cols))\n",
    "\n",
    "# Drop the original categorical columns and concatenate the new one-hot encoded columns\n",
    "X_train_encoded = X_train.drop(categorical_cols, axis=1).reset_index(drop=True)\n",
    "X_train_encoded = pd.concat([X_train_encoded, X_train_categorical_df], axis=1)\n",
    "\n",
    "X_test_encoded = X_test.drop(categorical_cols, axis=1).reset_index(drop=True)\n",
    "X_test_encoded = pd.concat([X_test_encoded, X_test_categorical_df], axis=1)\n",
    "\n",
    "# Ensure the train and test sets have the same features\n",
    "X_train_encoded, X_test_encoded = X_train_encoded.align(X_test_encoded, join='inner', axis=1)\n",
    "\n",
    "X_train_encoded.shape, X_test_encoded.shape"
   ]
  },
  {
   "cell_type": "markdown",
   "id": "2b04b2e3",
   "metadata": {
    "papermill": {
     "duration": 0.018871,
     "end_time": "2023-12-20T21:42:45.507889",
     "exception": false,
     "start_time": "2023-12-20T21:42:45.489018",
     "status": "completed"
    },
    "tags": []
   },
   "source": [
    "# 1. Decision Tree Classifier"
   ]
  },
  {
   "cell_type": "code",
   "execution_count": 7,
   "id": "11af2160",
   "metadata": {
    "execution": {
     "iopub.execute_input": "2023-12-20T21:42:45.548150Z",
     "iopub.status.busy": "2023-12-20T21:42:45.547710Z",
     "iopub.status.idle": "2023-12-20T21:42:45.787633Z",
     "shell.execute_reply": "2023-12-20T21:42:45.786103Z"
    },
    "papermill": {
     "duration": 0.263131,
     "end_time": "2023-12-20T21:42:45.790146",
     "exception": false,
     "start_time": "2023-12-20T21:42:45.527015",
     "status": "completed"
    },
    "tags": []
   },
   "outputs": [
    {
     "name": "stdout",
     "output_type": "stream",
     "text": [
      "0.55\n",
      "0.55\n",
      "              precision    recall  f1-score   support\n",
      "\n",
      "           0       0.63      0.54      0.58        35\n",
      "           1       0.47      0.56      0.51        25\n",
      "\n",
      "    accuracy                           0.55        60\n",
      "   macro avg       0.55      0.55      0.55        60\n",
      "weighted avg       0.56      0.55      0.55        60\n",
      "\n"
     ]
    }
   ],
   "source": [
    "from sklearn.tree import DecisionTreeClassifier\n",
    "from sklearn.metrics import accuracy_score\n",
    "\n",
    "dt_classifier = DecisionTreeClassifier(random_state=42)\n",
    "dt_classifier.fit(X_train_encoded, y_train)\n",
    "y_pred_dt = dt_classifier.predict(X_test_encoded)\n",
    "accuracy_dt = accuracy_score(y_test, y_pred_dt)\n",
    "print(accuracy_dt)\n",
    "y_pred = dt_classifier.predict(X_test)\n",
    "accuracy = accuracy_score(y_test, y_pred)\n",
    "report = classification_report(y_test, y_pred)\n",
    "\n",
    "print(accuracy)\n",
    "print(report)"
   ]
  },
  {
   "cell_type": "markdown",
   "id": "a3404a01",
   "metadata": {
    "papermill": {
     "duration": 0.019584,
     "end_time": "2023-12-20T21:42:45.829025",
     "exception": false,
     "start_time": "2023-12-20T21:42:45.809441",
     "status": "completed"
    },
    "tags": []
   },
   "source": [
    "# 2. Random Forest Classifier"
   ]
  },
  {
   "cell_type": "code",
   "execution_count": 8,
   "id": "2a8dc8e6",
   "metadata": {
    "execution": {
     "iopub.execute_input": "2023-12-20T21:42:45.880611Z",
     "iopub.status.busy": "2023-12-20T21:42:45.879854Z",
     "iopub.status.idle": "2023-12-20T21:42:46.255080Z",
     "shell.execute_reply": "2023-12-20T21:42:46.254246Z"
    },
    "papermill": {
     "duration": 0.40553,
     "end_time": "2023-12-20T21:42:46.258404",
     "exception": false,
     "start_time": "2023-12-20T21:42:45.852874",
     "status": "completed"
    },
    "tags": []
   },
   "outputs": [
    {
     "name": "stdout",
     "output_type": "stream",
     "text": [
      "              precision    recall  f1-score   support\n",
      "\n",
      "           0       0.74      0.40      0.52        35\n",
      "           1       0.49      0.80      0.61        25\n",
      "\n",
      "    accuracy                           0.57        60\n",
      "   macro avg       0.61      0.60      0.56        60\n",
      "weighted avg       0.63      0.57      0.55        60\n",
      "\n",
      "[[14 21]\n",
      " [ 5 20]]\n"
     ]
    }
   ],
   "source": [
    "from sklearn.ensemble import RandomForestClassifier\n",
    "from sklearn.metrics import classification_report, confusion_matrix\n",
    "\n",
    "# Applying Random Forest Classifier\n",
    "rf_classifier = RandomForestClassifier(random_state=42)\n",
    "# Training the model\n",
    "rf_classifier.fit(X_train_encoded, y_train)\n",
    "# Predicting on the test set\n",
    "y_pred_rf = rf_classifier.predict(X_test_encoded)\n",
    "# Classification Report\n",
    "classification_report_rf = classification_report(y_test, y_pred_rf)\n",
    "\n",
    "# Confusion Matrix\n",
    "confusion_matrix_rf = confusion_matrix(y_test, y_pred_rf)\n",
    "print(classification_report_rf)\n",
    "print(confusion_matrix_rf)"
   ]
  },
  {
   "cell_type": "markdown",
   "id": "4d3e2e16",
   "metadata": {
    "papermill": {
     "duration": 0.027061,
     "end_time": "2023-12-20T21:42:46.379156",
     "exception": false,
     "start_time": "2023-12-20T21:42:46.352095",
     "status": "completed"
    },
    "tags": []
   },
   "source": [
    "# 3. Support Vector Machine Classifier"
   ]
  },
  {
   "cell_type": "code",
   "execution_count": 9,
   "id": "1f1bd4ab",
   "metadata": {
    "execution": {
     "iopub.execute_input": "2023-12-20T21:42:46.433158Z",
     "iopub.status.busy": "2023-12-20T21:42:46.432343Z",
     "iopub.status.idle": "2023-12-20T21:42:46.471050Z",
     "shell.execute_reply": "2023-12-20T21:42:46.469600Z"
    },
    "papermill": {
     "duration": 0.070786,
     "end_time": "2023-12-20T21:42:46.474900",
     "exception": false,
     "start_time": "2023-12-20T21:42:46.404114",
     "status": "completed"
    },
    "tags": []
   },
   "outputs": [
    {
     "name": "stdout",
     "output_type": "stream",
     "text": [
      "              precision    recall  f1-score   support\n",
      "\n",
      "           0       0.00      0.00      0.00        35\n",
      "           1       0.42      1.00      0.59        25\n",
      "\n",
      "    accuracy                           0.42        60\n",
      "   macro avg       0.21      0.50      0.29        60\n",
      "weighted avg       0.17      0.42      0.25        60\n",
      "\n",
      "[[ 0 35]\n",
      " [ 0 25]]\n"
     ]
    },
    {
     "name": "stderr",
     "output_type": "stream",
     "text": [
      "/opt/conda/lib/python3.10/site-packages/sklearn/metrics/_classification.py:1344: UndefinedMetricWarning: Precision and F-score are ill-defined and being set to 0.0 in labels with no predicted samples. Use `zero_division` parameter to control this behavior.\n",
      "  _warn_prf(average, modifier, msg_start, len(result))\n",
      "/opt/conda/lib/python3.10/site-packages/sklearn/metrics/_classification.py:1344: UndefinedMetricWarning: Precision and F-score are ill-defined and being set to 0.0 in labels with no predicted samples. Use `zero_division` parameter to control this behavior.\n",
      "  _warn_prf(average, modifier, msg_start, len(result))\n",
      "/opt/conda/lib/python3.10/site-packages/sklearn/metrics/_classification.py:1344: UndefinedMetricWarning: Precision and F-score are ill-defined and being set to 0.0 in labels with no predicted samples. Use `zero_division` parameter to control this behavior.\n",
      "  _warn_prf(average, modifier, msg_start, len(result))\n"
     ]
    }
   ],
   "source": [
    "from sklearn.svm import SVC\n",
    "\n",
    "svm_classifier = SVC()\n",
    "\n",
    "svm_classifier.fit(X_train_encoded, y_train)\n",
    "y_pred_svm = svm_classifier.predict(X_test_encoded)\n",
    "classification_report_svm = classification_report(y_test, y_pred_svm)\n",
    "confusion_matrix_svm = confusion_matrix(y_test, y_pred_svm)\n",
    "print(classification_report_svm)\n",
    "print(confusion_matrix_svm)"
   ]
  },
  {
   "cell_type": "markdown",
   "id": "ea2d97a0",
   "metadata": {
    "papermill": {
     "duration": 0.029717,
     "end_time": "2023-12-20T21:42:46.535137",
     "exception": false,
     "start_time": "2023-12-20T21:42:46.505420",
     "status": "completed"
    },
    "tags": []
   },
   "source": [
    "# 4. KNeighbors Classifier"
   ]
  },
  {
   "cell_type": "code",
   "execution_count": 10,
   "id": "78bd3902",
   "metadata": {
    "execution": {
     "iopub.execute_input": "2023-12-20T21:42:46.598394Z",
     "iopub.status.busy": "2023-12-20T21:42:46.597565Z",
     "iopub.status.idle": "2023-12-20T21:42:46.758402Z",
     "shell.execute_reply": "2023-12-20T21:42:46.757295Z"
    },
    "papermill": {
     "duration": 0.196048,
     "end_time": "2023-12-20T21:42:46.762092",
     "exception": false,
     "start_time": "2023-12-20T21:42:46.566044",
     "status": "completed"
    },
    "tags": []
   },
   "outputs": [
    {
     "name": "stdout",
     "output_type": "stream",
     "text": [
      "              precision    recall  f1-score   support\n",
      "\n",
      "           0       0.66      0.54      0.59        35\n",
      "           1       0.48      0.60      0.54        25\n",
      "\n",
      "    accuracy                           0.57        60\n",
      "   macro avg       0.57      0.57      0.56        60\n",
      "weighted avg       0.58      0.57      0.57        60\n",
      "\n",
      "[[19 16]\n",
      " [10 15]]\n"
     ]
    }
   ],
   "source": [
    "from sklearn.neighbors import KNeighborsClassifier\n",
    "knn_classifier = KNeighborsClassifier()\n",
    "\n",
    "knn_classifier.fit(X_train_encoded, y_train)\n",
    "y_pred_knn = knn_classifier.predict(X_test_encoded)\n",
    "classification_report_knn = classification_report(y_test, y_pred_knn)\n",
    "confusion_matrix_knn = confusion_matrix(y_test, y_pred_knn)\n",
    "print(classification_report_knn)\n",
    "print(confusion_matrix_knn)"
   ]
  },
  {
   "cell_type": "markdown",
   "id": "1b3cd610",
   "metadata": {
    "papermill": {
     "duration": 0.019528,
     "end_time": "2023-12-20T21:42:46.805485",
     "exception": false,
     "start_time": "2023-12-20T21:42:46.785957",
     "status": "completed"
    },
    "tags": []
   },
   "source": [
    "# 5. XGBClassifier"
   ]
  },
  {
   "cell_type": "code",
   "execution_count": 11,
   "id": "ada59835",
   "metadata": {
    "execution": {
     "iopub.execute_input": "2023-12-20T21:42:46.849364Z",
     "iopub.status.busy": "2023-12-20T21:42:46.848388Z",
     "iopub.status.idle": "2023-12-20T21:42:47.256596Z",
     "shell.execute_reply": "2023-12-20T21:42:47.255559Z"
    },
    "papermill": {
     "duration": 0.433427,
     "end_time": "2023-12-20T21:42:47.259292",
     "exception": false,
     "start_time": "2023-12-20T21:42:46.825865",
     "status": "completed"
    },
    "tags": []
   },
   "outputs": [
    {
     "name": "stdout",
     "output_type": "stream",
     "text": [
      "              precision    recall  f1-score   support\n",
      "\n",
      "           0       0.64      0.46      0.53        35\n",
      "           1       0.46      0.64      0.53        25\n",
      "\n",
      "    accuracy                           0.53        60\n",
      "   macro avg       0.55      0.55      0.53        60\n",
      "weighted avg       0.56      0.53      0.53        60\n",
      "\n",
      "[[16 19]\n",
      " [ 9 16]]\n"
     ]
    }
   ],
   "source": [
    "from xgboost import XGBClassifier\n",
    "from sklearn.metrics import classification_report, confusion_matrix\n",
    "from sklearn.preprocessing import LabelEncoder\n",
    "\n",
    "label_encoder = LabelEncoder()\n",
    "y_train_encoded = label_encoder.fit_transform(y_train)\n",
    "y_test_encoded = label_encoder.transform(y_test)\n",
    "\n",
    "xgb_classifier = XGBClassifier(use_label_encoder=False, eval_metric='logloss')\n",
    "xgb_classifier.fit(X_train_encoded, y_train_encoded)\n",
    "y_pred_xgb = xgb_classifier.predict(X_test_encoded)\n",
    "y_pred_xgb = label_encoder.inverse_transform(y_pred_xgb)\n",
    "\n",
    "classification_report_xgb = classification_report(y_test, y_pred_xgb)\n",
    "confusion_matrix_xgb = confusion_matrix(y_test, y_pred_xgb)\n",
    "\n",
    "print(classification_report_xgb)\n",
    "print(confusion_matrix_xgb)"
   ]
  },
  {
   "cell_type": "markdown",
   "id": "736b8ae5",
   "metadata": {
    "papermill": {
     "duration": 0.019663,
     "end_time": "2023-12-20T21:42:47.299047",
     "exception": false,
     "start_time": "2023-12-20T21:42:47.279384",
     "status": "completed"
    },
    "tags": []
   },
   "source": [
    "# 6. Linear Discriminant Analysis"
   ]
  },
  {
   "cell_type": "code",
   "execution_count": 12,
   "id": "33f7a217",
   "metadata": {
    "execution": {
     "iopub.execute_input": "2023-12-20T21:42:47.341688Z",
     "iopub.status.busy": "2023-12-20T21:42:47.341248Z",
     "iopub.status.idle": "2023-12-20T21:42:47.391873Z",
     "shell.execute_reply": "2023-12-20T21:42:47.390454Z"
    },
    "papermill": {
     "duration": 0.075471,
     "end_time": "2023-12-20T21:42:47.394833",
     "exception": false,
     "start_time": "2023-12-20T21:42:47.319362",
     "status": "completed"
    },
    "tags": []
   },
   "outputs": [
    {
     "name": "stdout",
     "output_type": "stream",
     "text": [
      "              precision    recall  f1-score   support\n",
      "\n",
      "           0       0.67      0.51      0.58        35\n",
      "           1       0.48      0.64      0.55        25\n",
      "\n",
      "    accuracy                           0.57        60\n",
      "   macro avg       0.58      0.58      0.57        60\n",
      "weighted avg       0.59      0.57      0.57        60\n",
      "\n",
      "[[18 17]\n",
      " [ 9 16]]\n"
     ]
    }
   ],
   "source": [
    "from sklearn.decomposition import PCA\n",
    "from sklearn.discriminant_analysis import LinearDiscriminantAnalysis\n",
    "from sklearn.metrics import classification_report, confusion_matrix\n",
    "\n",
    "pca = PCA(n_components=24)  \n",
    "X_train_pca = pca.fit_transform(X_train_encoded)\n",
    "X_test_pca = pca.transform(X_test_encoded)\n",
    "\n",
    "lda_classifier = LinearDiscriminantAnalysis()\n",
    "lda_classifier.fit(X_train_pca, y_train)\n",
    "y_pred_lda = lda_classifier.predict(X_test_pca)\n",
    "\n",
    "classification_report_lda = classification_report(y_test, y_pred_lda)\n",
    "confusion_matrix_lda = confusion_matrix(y_test, y_pred_lda)\n",
    "\n",
    "print(classification_report_lda)\n",
    "print(confusion_matrix_lda)"
   ]
  },
  {
   "cell_type": "markdown",
   "id": "a1ebe40d",
   "metadata": {
    "papermill": {
     "duration": 0.020092,
     "end_time": "2023-12-20T21:42:47.436766",
     "exception": false,
     "start_time": "2023-12-20T21:42:47.416674",
     "status": "completed"
    },
    "tags": []
   },
   "source": [
    "# 7. Quadratic Discriminant Analysis"
   ]
  },
  {
   "cell_type": "code",
   "execution_count": 13,
   "id": "cf03c0ef",
   "metadata": {
    "execution": {
     "iopub.execute_input": "2023-12-20T21:42:47.479820Z",
     "iopub.status.busy": "2023-12-20T21:42:47.479167Z",
     "iopub.status.idle": "2023-12-20T21:42:47.515766Z",
     "shell.execute_reply": "2023-12-20T21:42:47.514495Z"
    },
    "papermill": {
     "duration": 0.06114,
     "end_time": "2023-12-20T21:42:47.518597",
     "exception": false,
     "start_time": "2023-12-20T21:42:47.457457",
     "status": "completed"
    },
    "tags": []
   },
   "outputs": [
    {
     "name": "stdout",
     "output_type": "stream",
     "text": [
      "              precision    recall  f1-score   support\n",
      "\n",
      "           0       0.61      0.54      0.58        35\n",
      "           1       0.45      0.52      0.48        25\n",
      "\n",
      "    accuracy                           0.53        60\n",
      "   macro avg       0.53      0.53      0.53        60\n",
      "weighted avg       0.54      0.53      0.54        60\n",
      "\n",
      "[[19 16]\n",
      " [12 13]]\n"
     ]
    }
   ],
   "source": [
    "from sklearn.decomposition import PCA\n",
    "from sklearn.discriminant_analysis import QuadraticDiscriminantAnalysis\n",
    "from sklearn.metrics import classification_report, confusion_matrix\n",
    "\n",
    "pca = PCA(n_components=24)  \n",
    "X_train_pca = pca.fit_transform(X_train_encoded)\n",
    "X_test_pca = pca.transform(X_test_encoded)\n",
    "\n",
    "\n",
    "qda_classifier = QuadraticDiscriminantAnalysis()\n",
    "qda_classifier.fit(X_train_pca, y_train)\n",
    "y_pred_qda = qda_classifier.predict(X_test_pca)\n",
    "\n",
    "classification_report_qda = classification_report(y_test, y_pred_qda)\n",
    "confusion_matrix_qda = confusion_matrix(y_test, y_pred_qda)\n",
    "\n",
    "print(classification_report_qda)\n",
    "print(confusion_matrix_qda)\n"
   ]
  },
  {
   "cell_type": "markdown",
   "id": "74e439d5",
   "metadata": {
    "papermill": {
     "duration": 0.020094,
     "end_time": "2023-12-20T21:42:47.558968",
     "exception": false,
     "start_time": "2023-12-20T21:42:47.538874",
     "status": "completed"
    },
    "tags": []
   },
   "source": [
    "# 8. Gaussian Process Classifier"
   ]
  },
  {
   "cell_type": "code",
   "execution_count": 14,
   "id": "b79ddce3",
   "metadata": {
    "execution": {
     "iopub.execute_input": "2023-12-20T21:42:47.601870Z",
     "iopub.status.busy": "2023-12-20T21:42:47.601124Z",
     "iopub.status.idle": "2023-12-20T21:42:48.508551Z",
     "shell.execute_reply": "2023-12-20T21:42:48.506851Z"
    },
    "papermill": {
     "duration": 0.935222,
     "end_time": "2023-12-20T21:42:48.514314",
     "exception": false,
     "start_time": "2023-12-20T21:42:47.579092",
     "status": "completed"
    },
    "tags": []
   },
   "outputs": [
    {
     "name": "stdout",
     "output_type": "stream",
     "text": [
      "              precision    recall  f1-score   support\n",
      "\n",
      "           0       0.58      1.00      0.74        35\n",
      "           1       0.00      0.00      0.00        25\n",
      "\n",
      "    accuracy                           0.58        60\n",
      "   macro avg       0.29      0.50      0.37        60\n",
      "weighted avg       0.34      0.58      0.43        60\n",
      "\n",
      "[[35  0]\n",
      " [25  0]]\n"
     ]
    },
    {
     "name": "stderr",
     "output_type": "stream",
     "text": [
      "/opt/conda/lib/python3.10/site-packages/sklearn/metrics/_classification.py:1344: UndefinedMetricWarning: Precision and F-score are ill-defined and being set to 0.0 in labels with no predicted samples. Use `zero_division` parameter to control this behavior.\n",
      "  _warn_prf(average, modifier, msg_start, len(result))\n",
      "/opt/conda/lib/python3.10/site-packages/sklearn/metrics/_classification.py:1344: UndefinedMetricWarning: Precision and F-score are ill-defined and being set to 0.0 in labels with no predicted samples. Use `zero_division` parameter to control this behavior.\n",
      "  _warn_prf(average, modifier, msg_start, len(result))\n",
      "/opt/conda/lib/python3.10/site-packages/sklearn/metrics/_classification.py:1344: UndefinedMetricWarning: Precision and F-score are ill-defined and being set to 0.0 in labels with no predicted samples. Use `zero_division` parameter to control this behavior.\n",
      "  _warn_prf(average, modifier, msg_start, len(result))\n"
     ]
    }
   ],
   "source": [
    "from sklearn.gaussian_process import GaussianProcessClassifier\n",
    "from sklearn.gaussian_process.kernels import RBF\n",
    "from sklearn.metrics import classification_report, confusion_matrix\n",
    "\n",
    "gp_classifier = GaussianProcessClassifier(kernel=1.0 * RBF(length_scale=1.0))\n",
    "\n",
    "# Training the model\n",
    "gp_classifier.fit(X_train_encoded, y_train)\n",
    "\n",
    "# Predicting on the test set\n",
    "y_pred_gp = gp_classifier.predict(X_test_encoded)\n",
    "\n",
    "# Classification Report and Confusion Matrix\n",
    "classification_report_gp = classification_report(y_test, y_pred_gp)\n",
    "confusion_matrix_gp = confusion_matrix(y_test, y_pred_gp)\n",
    "\n",
    "print(classification_report_gp)\n",
    "print(confusion_matrix_gp)"
   ]
  },
  {
   "cell_type": "markdown",
   "id": "7d836ef7",
   "metadata": {
    "papermill": {
     "duration": 0.020154,
     "end_time": "2023-12-20T21:42:48.601855",
     "exception": false,
     "start_time": "2023-12-20T21:42:48.581701",
     "status": "completed"
    },
    "tags": []
   },
   "source": [
    "# 9. AdaBoostClassifier"
   ]
  },
  {
   "cell_type": "code",
   "execution_count": 15,
   "id": "bb7c63e4",
   "metadata": {
    "execution": {
     "iopub.execute_input": "2023-12-20T21:42:48.644506Z",
     "iopub.status.busy": "2023-12-20T21:42:48.644073Z",
     "iopub.status.idle": "2023-12-20T21:42:48.723817Z",
     "shell.execute_reply": "2023-12-20T21:42:48.722478Z"
    },
    "papermill": {
     "duration": 0.103994,
     "end_time": "2023-12-20T21:42:48.726397",
     "exception": false,
     "start_time": "2023-12-20T21:42:48.622403",
     "status": "completed"
    },
    "tags": []
   },
   "outputs": [
    {
     "name": "stderr",
     "output_type": "stream",
     "text": [
      "/opt/conda/lib/python3.10/site-packages/sklearn/preprocessing/_encoders.py:868: FutureWarning: `sparse` was renamed to `sparse_output` in version 1.2 and will be removed in 1.4. `sparse_output` is ignored unless you leave `sparse` to its default value.\n",
      "  warnings.warn(\n"
     ]
    },
    {
     "name": "stdout",
     "output_type": "stream",
     "text": [
      "              precision    recall  f1-score   support\n",
      "\n",
      "           0       1.00      1.00      1.00        35\n",
      "           1       1.00      1.00      1.00        25\n",
      "\n",
      "    accuracy                           1.00        60\n",
      "   macro avg       1.00      1.00      1.00        60\n",
      "weighted avg       1.00      1.00      1.00        60\n",
      "\n",
      "[[35  0]\n",
      " [ 0 25]]\n"
     ]
    }
   ],
   "source": [
    "from sklearn.ensemble import AdaBoostClassifier\n",
    "\n",
    "import pandas as pd\n",
    "from sklearn.model_selection import train_test_split\n",
    "from sklearn.metrics import classification_report, confusion_matrix\n",
    "from sklearn.preprocessing import LabelEncoder, OneHotEncoder\n",
    "\n",
    "\n",
    "file_path = '/kaggle/input/dengue/dengue_dataset.csv'\n",
    "dengue_data = pd.read_csv(file_path)\n",
    "\n",
    "categorical_cols = dengue_data.select_dtypes(include=['object']).columns\n",
    "encoder = OneHotEncoder(sparse=False)\n",
    "X_categorical = encoder.fit_transform(dengue_data[categorical_cols])\n",
    "\n",
    "\n",
    "X_categorical_df = pd.DataFrame(X_categorical, columns=encoder.get_feature_names_out(categorical_cols))\n",
    "\n",
    "X_encoded = dengue_data.drop(categorical_cols, axis=1)\n",
    "X_encoded = pd.concat([X_encoded, X_categorical_df], axis=1)\n",
    "\n",
    "\n",
    "y = dengue_data['Igm']\n",
    "label_encoder = LabelEncoder()\n",
    "y_encoded = label_encoder.fit_transform(y)\n",
    "\n",
    "X_train_encoded, X_test_encoded, y_train_encoded, y_test_encoded = train_test_split(X_encoded, y_encoded, test_size=0.2, random_state=42)\n",
    "ada_classifier = AdaBoostClassifier(random_state=42)\n",
    "ada_classifier.fit(X_train_encoded, y_train_encoded)\n",
    "y_pred_ada = ada_classifier.predict(X_test_encoded)\n",
    "classification_report_ada = classification_report(y_test_encoded, y_pred_ada)\n",
    "confusion_matrix_ada = confusion_matrix(y_test_encoded, y_pred_ada)\n",
    "\n",
    "print(classification_report_ada)\n",
    "print(confusion_matrix_ada)"
   ]
  },
  {
   "cell_type": "markdown",
   "id": "40811e46",
   "metadata": {
    "papermill": {
     "duration": 0.020184,
     "end_time": "2023-12-20T21:42:48.767233",
     "exception": false,
     "start_time": "2023-12-20T21:42:48.747049",
     "status": "completed"
    },
    "tags": []
   },
   "source": [
    "# 10. LGBMClassifier"
   ]
  },
  {
   "cell_type": "code",
   "execution_count": 16,
   "id": "b3f6577c",
   "metadata": {
    "execution": {
     "iopub.execute_input": "2023-12-20T21:42:48.811164Z",
     "iopub.status.busy": "2023-12-20T21:42:48.810746Z",
     "iopub.status.idle": "2023-12-20T21:42:48.984717Z",
     "shell.execute_reply": "2023-12-20T21:42:48.983070Z"
    },
    "papermill": {
     "duration": 0.199096,
     "end_time": "2023-12-20T21:42:48.987427",
     "exception": false,
     "start_time": "2023-12-20T21:42:48.788331",
     "status": "completed"
    },
    "tags": []
   },
   "outputs": [
    {
     "name": "stdout",
     "output_type": "stream",
     "text": [
      "              precision    recall  f1-score   support\n",
      "\n",
      "           0       1.00      1.00      1.00        35\n",
      "           1       1.00      1.00      1.00        25\n",
      "\n",
      "    accuracy                           1.00        60\n",
      "   macro avg       1.00      1.00      1.00        60\n",
      "weighted avg       1.00      1.00      1.00        60\n",
      "\n",
      "[[35  0]\n",
      " [ 0 25]]\n"
     ]
    }
   ],
   "source": [
    "import re\n",
    "def clean_column_names(column_name):\n",
    "    return re.sub(r'\\W', '_', column_name).strip('_')\n",
    "\n",
    "X_train_encoded.columns = [clean_column_names(col) for col in X_train_encoded.columns]\n",
    "X_test_encoded.columns = [clean_column_names(col) for col in X_test_encoded.columns]\n",
    "\n",
    "lgbm_classifier = LGBMClassifier()\n",
    "lgbm_classifier.fit(X_train_encoded, y_train)\n",
    "y_pred_lgbm = lgbm_classifier.predict(X_test_encoded)\n",
    "classification_report_lgbm = classification_report(y_test, y_pred_lgbm)\n",
    "confusion_matrix_lgbm = confusion_matrix(y_test, y_pred_lgbm)\n",
    "\n",
    "print(classification_report_lgbm)\n",
    "print(confusion_matrix_lgbm)\n"
   ]
  },
  {
   "cell_type": "markdown",
   "id": "f1366332",
   "metadata": {
    "papermill": {
     "duration": 0.020356,
     "end_time": "2023-12-20T21:42:49.028305",
     "exception": false,
     "start_time": "2023-12-20T21:42:49.007949",
     "status": "completed"
    },
    "tags": []
   },
   "source": [
    "# 11. CatBoostClassifier"
   ]
  },
  {
   "cell_type": "code",
   "execution_count": 17,
   "id": "50237acf",
   "metadata": {
    "execution": {
     "iopub.execute_input": "2023-12-20T21:42:49.071574Z",
     "iopub.status.busy": "2023-12-20T21:42:49.071153Z",
     "iopub.status.idle": "2023-12-20T21:42:52.957188Z",
     "shell.execute_reply": "2023-12-20T21:42:52.956155Z"
    },
    "papermill": {
     "duration": 3.911313,
     "end_time": "2023-12-20T21:42:52.960169",
     "exception": false,
     "start_time": "2023-12-20T21:42:49.048856",
     "status": "completed"
    },
    "tags": []
   },
   "outputs": [
    {
     "name": "stdout",
     "output_type": "stream",
     "text": [
      "              precision    recall  f1-score   support\n",
      "\n",
      "           0       1.00      1.00      1.00        35\n",
      "           1       1.00      1.00      1.00        25\n",
      "\n",
      "    accuracy                           1.00        60\n",
      "   macro avg       1.00      1.00      1.00        60\n",
      "weighted avg       1.00      1.00      1.00        60\n",
      "\n",
      "[[35  0]\n",
      " [ 0 25]]\n"
     ]
    }
   ],
   "source": [
    "from catboost import CatBoostClassifier\n",
    "from sklearn.metrics import classification_report, confusion_matrix\n",
    "\n",
    "catboost_classifier = CatBoostClassifier(verbose=0)\n",
    "catboost_classifier.fit(X_train_encoded, y_train)\n",
    "y_pred_catboost = catboost_classifier.predict(X_test_encoded)\n",
    "\n",
    "classification_report_catboost = classification_report(y_test, y_pred_catboost)\n",
    "confusion_matrix_catboost = confusion_matrix(y_test, y_pred_catboost)\n",
    "\n",
    "print(classification_report_catboost)\n",
    "print(confusion_matrix_catboost)\n"
   ]
  },
  {
   "cell_type": "markdown",
   "id": "8f958338",
   "metadata": {
    "papermill": {
     "duration": 0.020277,
     "end_time": "2023-12-20T21:42:53.001183",
     "exception": false,
     "start_time": "2023-12-20T21:42:52.980906",
     "status": "completed"
    },
    "tags": []
   },
   "source": [
    "# 12. Nearest Centroid Classifier"
   ]
  },
  {
   "cell_type": "code",
   "execution_count": 18,
   "id": "d259a0f1",
   "metadata": {
    "execution": {
     "iopub.execute_input": "2023-12-20T21:42:53.046213Z",
     "iopub.status.busy": "2023-12-20T21:42:53.045769Z",
     "iopub.status.idle": "2023-12-20T21:42:53.085634Z",
     "shell.execute_reply": "2023-12-20T21:42:53.084117Z"
    },
    "papermill": {
     "duration": 0.066177,
     "end_time": "2023-12-20T21:42:53.088189",
     "exception": false,
     "start_time": "2023-12-20T21:42:53.022012",
     "status": "completed"
    },
    "tags": []
   },
   "outputs": [
    {
     "name": "stdout",
     "output_type": "stream",
     "text": [
      "              precision    recall  f1-score   support\n",
      "\n",
      "           0       0.75      0.60      0.67        35\n",
      "           1       0.56      0.72      0.63        25\n",
      "\n",
      "    accuracy                           0.65        60\n",
      "   macro avg       0.66      0.66      0.65        60\n",
      "weighted avg       0.67      0.65      0.65        60\n",
      "\n",
      "[[21 14]\n",
      " [ 7 18]]\n"
     ]
    }
   ],
   "source": [
    "from sklearn.neighbors import NearestCentroid\n",
    "from sklearn.metrics import classification_report, confusion_matrix\n",
    "nc_classifier = NearestCentroid()\n",
    "\n",
    "nc_classifier.fit(X_train_encoded, y_train)\n",
    "\n",
    "y_pred_nc = nc_classifier.predict(X_test_encoded)\n",
    "classification_report_nc = classification_report(y_test, y_pred_nc)\n",
    "confusion_matrix_nc = confusion_matrix(y_test, y_pred_nc)\n",
    "\n",
    "print(classification_report_nc)\n",
    "print(confusion_matrix_nc)"
   ]
  },
  {
   "cell_type": "markdown",
   "id": "9139f0ec",
   "metadata": {
    "papermill": {
     "duration": 0.020647,
     "end_time": "2023-12-20T21:42:53.129572",
     "exception": false,
     "start_time": "2023-12-20T21:42:53.108925",
     "status": "completed"
    },
    "tags": []
   },
   "source": [
    "# 13. Ridge Classifier"
   ]
  },
  {
   "cell_type": "code",
   "execution_count": 19,
   "id": "a5c550b4",
   "metadata": {
    "execution": {
     "iopub.execute_input": "2023-12-20T21:42:53.173187Z",
     "iopub.status.busy": "2023-12-20T21:42:53.172797Z",
     "iopub.status.idle": "2023-12-20T21:42:53.256931Z",
     "shell.execute_reply": "2023-12-20T21:42:53.255255Z"
    },
    "papermill": {
     "duration": 0.110679,
     "end_time": "2023-12-20T21:42:53.261132",
     "exception": false,
     "start_time": "2023-12-20T21:42:53.150453",
     "status": "completed"
    },
    "tags": []
   },
   "outputs": [
    {
     "name": "stdout",
     "output_type": "stream",
     "text": [
      "              precision    recall  f1-score   support\n",
      "\n",
      "           0       1.00      1.00      1.00        35\n",
      "           1       1.00      1.00      1.00        25\n",
      "\n",
      "    accuracy                           1.00        60\n",
      "   macro avg       1.00      1.00      1.00        60\n",
      "weighted avg       1.00      1.00      1.00        60\n",
      "\n",
      "[[35  0]\n",
      " [ 0 25]]\n"
     ]
    }
   ],
   "source": [
    "from sklearn.linear_model import RidgeClassifier\n",
    "from sklearn.metrics import classification_report, confusion_matrix\n",
    "\n",
    "ridge_classifier = RidgeClassifier()\n",
    "ridge_classifier.fit(X_train_encoded, y_train)\n",
    "y_pred_ridge = ridge_classifier.predict(X_test_encoded)\n",
    "classification_report_ridge = classification_report(y_test, y_pred_ridge)\n",
    "confusion_matrix_ridge = confusion_matrix(y_test, y_pred_ridge)\n",
    "print(classification_report_ridge)\n",
    "print(confusion_matrix_ridge)"
   ]
  },
  {
   "cell_type": "markdown",
   "id": "b8a2f80d",
   "metadata": {
    "papermill": {
     "duration": 0.032376,
     "end_time": "2023-12-20T21:42:53.367243",
     "exception": false,
     "start_time": "2023-12-20T21:42:53.334867",
     "status": "completed"
    },
    "tags": []
   },
   "source": [
    "# 14. PassiveAggressiveClassifier"
   ]
  },
  {
   "cell_type": "code",
   "execution_count": 20,
   "id": "f18033fa",
   "metadata": {
    "execution": {
     "iopub.execute_input": "2023-12-20T21:42:53.412065Z",
     "iopub.status.busy": "2023-12-20T21:42:53.411045Z",
     "iopub.status.idle": "2023-12-20T21:42:53.460832Z",
     "shell.execute_reply": "2023-12-20T21:42:53.459389Z"
    },
    "papermill": {
     "duration": 0.075584,
     "end_time": "2023-12-20T21:42:53.464034",
     "exception": false,
     "start_time": "2023-12-20T21:42:53.388450",
     "status": "completed"
    },
    "tags": []
   },
   "outputs": [
    {
     "name": "stdout",
     "output_type": "stream",
     "text": [
      "              precision    recall  f1-score   support\n",
      "\n",
      "           0       0.62      0.57      0.60        35\n",
      "           1       0.46      0.52      0.49        25\n",
      "\n",
      "    accuracy                           0.55        60\n",
      "   macro avg       0.54      0.55      0.54        60\n",
      "weighted avg       0.56      0.55      0.55        60\n",
      "\n",
      "[[20 15]\n",
      " [12 13]]\n"
     ]
    }
   ],
   "source": [
    "import pandas as pd\n",
    "from sklearn.model_selection import train_test_split\n",
    "from sklearn.linear_model import PassiveAggressiveClassifier\n",
    "from sklearn.metrics import classification_report, confusion_matrix\n",
    "from sklearn.preprocessing import LabelEncoder, StandardScaler\n",
    "\n",
    "# Load your dataset\n",
    "file_path = '/kaggle/input/dengue/dengue_dataset.csv'\n",
    "data = pd.read_csv(file_path)\n",
    "\n",
    "label_encoder = LabelEncoder()\n",
    "categorical_cols = data.select_dtypes(include=['object']).columns\n",
    "for col in categorical_cols:\n",
    "    data[col] = label_encoder.fit_transform(data[col])\n",
    "\n",
    "y = data['Igm']\n",
    "X = data.drop('Igm', axis=1)\n",
    "\n",
    "scaler = StandardScaler()\n",
    "X_scaled = scaler.fit_transform(X)\n",
    "\n",
    "X_train, X_test, y_train, y_test = train_test_split(X_scaled, y, test_size=0.2, random_state=42)\n",
    "\n",
    "pa_classifier = PassiveAggressiveClassifier(max_iter=1000, random_state=42)\n",
    "pa_classifier.fit(X_train, y_train)\n",
    "\n",
    "y_pred_pa = pa_classifier.predict(X_test)\n",
    "classification_report_pa = classification_report(y_test, y_pred_pa)\n",
    "confusion_matrix_pa = confusion_matrix(y_test, y_pred_pa)\n",
    "print(classification_report_pa)\n",
    "print(confusion_matrix_pa)"
   ]
  },
  {
   "cell_type": "markdown",
   "id": "cf080d82",
   "metadata": {
    "papermill": {
     "duration": 0.021573,
     "end_time": "2023-12-20T21:42:53.507739",
     "exception": false,
     "start_time": "2023-12-20T21:42:53.486166",
     "status": "completed"
    },
    "tags": []
   },
   "source": [
    "# 15. Decision Stump"
   ]
  },
  {
   "cell_type": "code",
   "execution_count": 21,
   "id": "757a0439",
   "metadata": {
    "execution": {
     "iopub.execute_input": "2023-12-20T21:42:53.552277Z",
     "iopub.status.busy": "2023-12-20T21:42:53.551883Z",
     "iopub.status.idle": "2023-12-20T21:42:53.597948Z",
     "shell.execute_reply": "2023-12-20T21:42:53.597105Z"
    },
    "papermill": {
     "duration": 0.071474,
     "end_time": "2023-12-20T21:42:53.600453",
     "exception": false,
     "start_time": "2023-12-20T21:42:53.528979",
     "status": "completed"
    },
    "tags": []
   },
   "outputs": [
    {
     "name": "stdout",
     "output_type": "stream",
     "text": [
      "              precision    recall  f1-score   support\n",
      "\n",
      "           0       0.60      0.51      0.55        35\n",
      "           1       0.43      0.52      0.47        25\n",
      "\n",
      "    accuracy                           0.52        60\n",
      "   macro avg       0.52      0.52      0.51        60\n",
      "weighted avg       0.53      0.52      0.52        60\n",
      "\n",
      "[[18 17]\n",
      " [12 13]]\n"
     ]
    }
   ],
   "source": [
    "import pandas as pd\n",
    "from sklearn.model_selection import train_test_split\n",
    "from sklearn.tree import DecisionTreeClassifier\n",
    "from sklearn.metrics import classification_report, confusion_matrix\n",
    "from sklearn.preprocessing import LabelEncoder\n",
    "\n",
    "file_path = '/kaggle/input/dengue/dengue_dataset.csv'\n",
    "data = pd.read_csv(file_path)\n",
    "\n",
    "label_encoder = LabelEncoder()\n",
    "categorical_cols = data.select_dtypes(include=['object']).columns\n",
    "for col in categorical_cols:\n",
    "    data[col] = label_encoder.fit_transform(data[col])\n",
    "\n",
    "y = data['Igm']\n",
    "X = data.drop('Igm', axis=1)\n",
    "\n",
    "X_train, X_test, y_train, y_test = train_test_split(X, y, test_size=0.2, random_state=42)\n",
    "decision_stump = DecisionTreeClassifier(max_depth=1, random_state=42)\n",
    "\n",
    "decision_stump.fit(X_train, y_train)\n",
    "y_pred_stump = decision_stump.predict(X_test)\n",
    "classification_report_stump = classification_report(y_test, y_pred_stump)\n",
    "confusion_matrix_stump = confusion_matrix(y_test, y_pred_stump)\n",
    "\n",
    "print(classification_report_stump)\n",
    "print(confusion_matrix_stump)\n"
   ]
  },
  {
   "cell_type": "markdown",
   "id": "9bd60015",
   "metadata": {
    "papermill": {
     "duration": 0.020988,
     "end_time": "2023-12-20T21:42:53.643251",
     "exception": false,
     "start_time": "2023-12-20T21:42:53.622263",
     "status": "completed"
    },
    "tags": []
   },
   "source": [
    "# 16. Bagging (Bootstrap Aggregating)"
   ]
  },
  {
   "cell_type": "code",
   "execution_count": 22,
   "id": "1cbf1795",
   "metadata": {
    "execution": {
     "iopub.execute_input": "2023-12-20T21:42:53.689102Z",
     "iopub.status.busy": "2023-12-20T21:42:53.687991Z",
     "iopub.status.idle": "2023-12-20T21:43:32.496457Z",
     "shell.execute_reply": "2023-12-20T21:43:32.495002Z"
    },
    "papermill": {
     "duration": 38.851692,
     "end_time": "2023-12-20T21:43:32.516744",
     "exception": false,
     "start_time": "2023-12-20T21:42:53.665052",
     "status": "completed"
    },
    "tags": []
   },
   "outputs": [
    {
     "name": "stderr",
     "output_type": "stream",
     "text": [
      "/opt/conda/lib/python3.10/site-packages/sklearn/ensemble/_base.py:166: FutureWarning: `base_estimator` was renamed to `estimator` in version 1.2 and will be removed in 1.4.\n",
      "  warnings.warn(\n"
     ]
    },
    {
     "name": "stdout",
     "output_type": "stream",
     "text": [
      "              precision    recall  f1-score   support\n",
      "\n",
      "           0       0.80      0.46      0.58        35\n",
      "           1       0.53      0.84      0.65        25\n",
      "\n",
      "    accuracy                           0.62        60\n",
      "   macro avg       0.66      0.65      0.61        60\n",
      "weighted avg       0.69      0.62      0.61        60\n",
      "\n",
      "[[16 19]\n",
      " [ 4 21]]\n"
     ]
    }
   ],
   "source": [
    "import pandas as pd\n",
    "from sklearn.model_selection import train_test_split\n",
    "from sklearn.ensemble import BaggingClassifier\n",
    "from sklearn.tree import DecisionTreeClassifier\n",
    "from sklearn.metrics import classification_report, confusion_matrix\n",
    "from sklearn.preprocessing import LabelEncoder, StandardScaler\n",
    "\n",
    "file_path = '/kaggle/input/dengue/dengue_dataset.csv'\n",
    "data = pd.read_csv(file_path)\n",
    "\n",
    "label_encoder = LabelEncoder()\n",
    "categorical_cols = data.select_dtypes(include=['object']).columns\n",
    "for col in categorical_cols:\n",
    "    data[col] = label_encoder.fit_transform(data[col])\n",
    "\n",
    "y = data['Igm']\n",
    "X = data.drop('Igm', axis=1)\n",
    "scaler = StandardScaler()\n",
    "X_scaled = scaler.fit_transform(X)\n",
    "X_train, X_test, y_train, y_test = train_test_split(X_scaled, y, test_size=0.2, random_state=42)\n",
    "bagging_classifier = BaggingClassifier(base_estimator=DecisionTreeClassifier(), \n",
    "                                       n_estimators=10000, random_state=42)\n",
    "bagging_classifier.fit(X_train, y_train)\n",
    "\n",
    "y_pred_bagging = bagging_classifier.predict(X_test)\n",
    "\n",
    "classification_report_bagging = classification_report(y_test, y_pred_bagging)\n",
    "confusion_matrix_bagging = confusion_matrix(y_test, y_pred_bagging)\n",
    "\n",
    "print(classification_report_bagging)\n",
    "print(confusion_matrix_bagging)\n"
   ]
  },
  {
   "cell_type": "markdown",
   "id": "913d3420",
   "metadata": {
    "papermill": {
     "duration": 0.020994,
     "end_time": "2023-12-20T21:43:32.558970",
     "exception": false,
     "start_time": "2023-12-20T21:43:32.537976",
     "status": "completed"
    },
    "tags": []
   },
   "source": [
    "# 17. Elastic Net"
   ]
  },
  {
   "cell_type": "code",
   "execution_count": 23,
   "id": "9dc5a794",
   "metadata": {
    "execution": {
     "iopub.execute_input": "2023-12-20T21:43:32.603850Z",
     "iopub.status.busy": "2023-12-20T21:43:32.603463Z",
     "iopub.status.idle": "2023-12-20T21:43:32.637461Z",
     "shell.execute_reply": "2023-12-20T21:43:32.636381Z"
    },
    "papermill": {
     "duration": 0.060746,
     "end_time": "2023-12-20T21:43:32.641019",
     "exception": false,
     "start_time": "2023-12-20T21:43:32.580273",
     "status": "completed"
    },
    "tags": []
   },
   "outputs": [
    {
     "name": "stdout",
     "output_type": "stream",
     "text": [
      "              precision    recall  f1-score   support\n",
      "\n",
      "           0       0.00      0.00      0.00        35\n",
      "           1       0.42      1.00      0.59        25\n",
      "\n",
      "    accuracy                           0.42        60\n",
      "   macro avg       0.21      0.50      0.29        60\n",
      "weighted avg       0.17      0.42      0.25        60\n",
      "\n",
      "[[ 0 35]\n",
      " [ 0 25]]\n"
     ]
    },
    {
     "name": "stderr",
     "output_type": "stream",
     "text": [
      "/opt/conda/lib/python3.10/site-packages/sklearn/metrics/_classification.py:1344: UndefinedMetricWarning: Precision and F-score are ill-defined and being set to 0.0 in labels with no predicted samples. Use `zero_division` parameter to control this behavior.\n",
      "  _warn_prf(average, modifier, msg_start, len(result))\n",
      "/opt/conda/lib/python3.10/site-packages/sklearn/metrics/_classification.py:1344: UndefinedMetricWarning: Precision and F-score are ill-defined and being set to 0.0 in labels with no predicted samples. Use `zero_division` parameter to control this behavior.\n",
      "  _warn_prf(average, modifier, msg_start, len(result))\n",
      "/opt/conda/lib/python3.10/site-packages/sklearn/metrics/_classification.py:1344: UndefinedMetricWarning: Precision and F-score are ill-defined and being set to 0.0 in labels with no predicted samples. Use `zero_division` parameter to control this behavior.\n",
      "  _warn_prf(average, modifier, msg_start, len(result))\n"
     ]
    }
   ],
   "source": [
    "import pandas as pd\n",
    "from sklearn.model_selection import train_test_split\n",
    "from sklearn.linear_model import ElasticNet\n",
    "from sklearn.metrics import classification_report, confusion_matrix\n",
    "from sklearn.preprocessing import StandardScaler\n",
    "\n",
    "scaler = StandardScaler()\n",
    "X_scaled = scaler.fit_transform(data.drop('Igm', axis=1))\n",
    "y = data['Igm']\n",
    "\n",
    "X_train, X_test, y_train, y_test = train_test_split(X_scaled, y, test_size=0.2, random_state=42)\n",
    "elastic_net_classifier = ElasticNet()\n",
    "elastic_net_classifier.fit(X_train, y_train)\n",
    "y_pred_en = elastic_net_classifier.predict(X_test)\n",
    "threshold = 0.512 \n",
    "y_pred_en_class = (y_pred_en > threshold).astype(int)\n",
    "\n",
    "classification_report_en = classification_report(y_test, y_pred_en_class)\n",
    "confusion_matrix_en = confusion_matrix(y_test, y_pred_en_class)\n",
    "\n",
    "print(classification_report_en)\n",
    "print(confusion_matrix_en)\n"
   ]
  },
  {
   "cell_type": "markdown",
   "id": "6c7e113b",
   "metadata": {
    "papermill": {
     "duration": 0.021184,
     "end_time": "2023-12-20T21:43:32.684119",
     "exception": false,
     "start_time": "2023-12-20T21:43:32.662935",
     "status": "completed"
    },
    "tags": []
   },
   "source": [
    "# 18. Gaussian Naive Bayes"
   ]
  },
  {
   "cell_type": "code",
   "execution_count": 24,
   "id": "9dd29513",
   "metadata": {
    "execution": {
     "iopub.execute_input": "2023-12-20T21:43:32.729899Z",
     "iopub.status.busy": "2023-12-20T21:43:32.729509Z",
     "iopub.status.idle": "2023-12-20T21:43:32.765440Z",
     "shell.execute_reply": "2023-12-20T21:43:32.764395Z"
    },
    "papermill": {
     "duration": 0.061737,
     "end_time": "2023-12-20T21:43:32.767855",
     "exception": false,
     "start_time": "2023-12-20T21:43:32.706118",
     "status": "completed"
    },
    "tags": []
   },
   "outputs": [
    {
     "name": "stdout",
     "output_type": "stream",
     "text": [
      "              precision    recall  f1-score   support\n",
      "\n",
      "           0       0.74      0.40      0.52        35\n",
      "           1       0.49      0.80      0.61        25\n",
      "\n",
      "    accuracy                           0.57        60\n",
      "   macro avg       0.61      0.60      0.56        60\n",
      "weighted avg       0.63      0.57      0.55        60\n",
      "\n",
      "[[14 21]\n",
      " [ 5 20]]\n"
     ]
    }
   ],
   "source": [
    "import pandas as pd\n",
    "from sklearn.model_selection import train_test_split\n",
    "from sklearn.naive_bayes import GaussianNB\n",
    "from sklearn.metrics import classification_report, confusion_matrix\n",
    "from sklearn.preprocessing import LabelEncoder\n",
    "label_encoder = LabelEncoder()\n",
    "categorical_cols = data.select_dtypes(include=['object']).columns\n",
    "for col in categorical_cols:\n",
    "    data[col] = label_encoder.fit_transform(data[col])\n",
    "\n",
    "y = data['Igm']\n",
    "X = data.drop('Igm', axis=1)\n",
    "X_train, X_test, y_train, y_test = train_test_split(X, y, test_size=0.2, random_state=42)\n",
    "gnb_classifier = GaussianNB()\n",
    "gnb_classifier.fit(X_train, y_train)\n",
    "\n",
    "# Predicting on the test set\n",
    "y_pred_gnb = gnb_classifier.predict(X_test)\n",
    "\n",
    "classification_report_gnb = classification_report(y_test, y_pred_gnb)\n",
    "confusion_matrix_gnb = confusion_matrix(y_test, y_pred_gnb)\n",
    "\n",
    "print(classification_report_gnb)\n",
    "print(confusion_matrix_gnb)"
   ]
  },
  {
   "cell_type": "markdown",
   "id": "7ea14da1",
   "metadata": {
    "papermill": {
     "duration": 0.02138,
     "end_time": "2023-12-20T21:43:32.811527",
     "exception": false,
     "start_time": "2023-12-20T21:43:32.790147",
     "status": "completed"
    },
    "tags": []
   },
   "source": [
    "# 19. Multinomial Naive Bayes"
   ]
  },
  {
   "cell_type": "code",
   "execution_count": 25,
   "id": "b1758525",
   "metadata": {
    "execution": {
     "iopub.execute_input": "2023-12-20T21:43:32.857132Z",
     "iopub.status.busy": "2023-12-20T21:43:32.856721Z",
     "iopub.status.idle": "2023-12-20T21:43:32.888963Z",
     "shell.execute_reply": "2023-12-20T21:43:32.887691Z"
    },
    "papermill": {
     "duration": 0.058089,
     "end_time": "2023-12-20T21:43:32.891544",
     "exception": false,
     "start_time": "2023-12-20T21:43:32.833455",
     "status": "completed"
    },
    "tags": []
   },
   "outputs": [
    {
     "name": "stdout",
     "output_type": "stream",
     "text": [
      "              precision    recall  f1-score   support\n",
      "\n",
      "           0       0.68      0.37      0.48        35\n",
      "           1       0.46      0.76      0.58        25\n",
      "\n",
      "    accuracy                           0.53        60\n",
      "   macro avg       0.57      0.57      0.53        60\n",
      "weighted avg       0.59      0.53      0.52        60\n",
      "\n",
      "[[13 22]\n",
      " [ 6 19]]\n"
     ]
    }
   ],
   "source": [
    "import pandas as pd\n",
    "from sklearn.model_selection import train_test_split\n",
    "from sklearn.naive_bayes import MultinomialNB\n",
    "from sklearn.metrics import classification_report, confusion_matrix\n",
    "from sklearn.preprocessing import MinMaxScaler\n",
    "\n",
    "scaler = MinMaxScaler()\n",
    "X_scaled = scaler.fit_transform(data.drop('Igm', axis=1))\n",
    "y = data['Igm']\n",
    "X_train, X_test, y_train, y_test = train_test_split(X_scaled, y, test_size=0.2, random_state=42)\n",
    "mnb_classifier = MultinomialNB()\n",
    "mnb_classifier.fit(X_train, y_train)\n",
    "y_pred_mnb = mnb_classifier.predict(X_test)\n",
    "classification_report_mnb = classification_report(y_test, y_pred_mnb)\n",
    "confusion_matrix_mnb = confusion_matrix(y_test, y_pred_mnb)\n",
    "print(classification_report_mnb)\n",
    "print(confusion_matrix_mnb)"
   ]
  },
  {
   "cell_type": "markdown",
   "id": "6a02605c",
   "metadata": {
    "papermill": {
     "duration": 0.021508,
     "end_time": "2023-12-20T21:43:32.934917",
     "exception": false,
     "start_time": "2023-12-20T21:43:32.913409",
     "status": "completed"
    },
    "tags": []
   },
   "source": [
    "# 20. Bernoulli Naive Bayes"
   ]
  },
  {
   "cell_type": "code",
   "execution_count": 26,
   "id": "1689f5dc",
   "metadata": {
    "execution": {
     "iopub.execute_input": "2023-12-20T21:43:32.981512Z",
     "iopub.status.busy": "2023-12-20T21:43:32.980651Z",
     "iopub.status.idle": "2023-12-20T21:43:33.011594Z",
     "shell.execute_reply": "2023-12-20T21:43:33.010395Z"
    },
    "papermill": {
     "duration": 0.057527,
     "end_time": "2023-12-20T21:43:33.014457",
     "exception": false,
     "start_time": "2023-12-20T21:43:32.956930",
     "status": "completed"
    },
    "tags": []
   },
   "outputs": [
    {
     "name": "stdout",
     "output_type": "stream",
     "text": [
      "              precision    recall  f1-score   support\n",
      "\n",
      "           0       0.61      0.31      0.42        35\n",
      "           1       0.43      0.72      0.54        25\n",
      "\n",
      "    accuracy                           0.48        60\n",
      "   macro avg       0.52      0.52      0.48        60\n",
      "weighted avg       0.54      0.48      0.47        60\n",
      "\n",
      "[[11 24]\n",
      " [ 7 18]]\n"
     ]
    }
   ],
   "source": [
    "import pandas as pd\n",
    "from sklearn.model_selection import train_test_split\n",
    "from sklearn.naive_bayes import BernoulliNB\n",
    "from sklearn.metrics import classification_report, confusion_matrix\n",
    "from sklearn.preprocessing import LabelEncoder\n",
    "\n",
    "label_encoder = LabelEncoder()\n",
    "categorical_cols = data.select_dtypes(include=['object']).columns\n",
    "for col in categorical_cols:\n",
    "    data[col] = label_encoder.fit_transform(data[col])\n",
    "\n",
    "y = data['Igm']\n",
    "X = data.drop('Igm', axis=1)\n",
    "X_train, X_test, y_train, y_test = train_test_split(X, y, test_size=0.2, random_state=42)\n",
    "\n",
    "bnb_classifier = BernoulliNB()\n",
    "bnb_classifier.fit(X_train, y_train)\n",
    "y_pred_bnb = bnb_classifier.predict(X_test)\n",
    "classification_report_bnb = classification_report(y_test, y_pred_bnb)\n",
    "confusion_matrix_bnb = confusion_matrix(y_test, y_pred_bnb)\n",
    "\n",
    "print(classification_report_bnb)\n",
    "print(confusion_matrix_bnb)"
   ]
  },
  {
   "cell_type": "markdown",
   "id": "8d858de4",
   "metadata": {
    "papermill": {
     "duration": 0.021556,
     "end_time": "2023-12-20T21:43:33.057914",
     "exception": false,
     "start_time": "2023-12-20T21:43:33.036358",
     "status": "completed"
    },
    "tags": []
   },
   "source": [
    "# 21. Categorical Naive Bayes"
   ]
  },
  {
   "cell_type": "code",
   "execution_count": 27,
   "id": "18070ae0",
   "metadata": {
    "execution": {
     "iopub.execute_input": "2023-12-20T21:43:33.103720Z",
     "iopub.status.busy": "2023-12-20T21:43:33.103330Z",
     "iopub.status.idle": "2023-12-20T21:43:33.162220Z",
     "shell.execute_reply": "2023-12-20T21:43:33.161153Z"
    },
    "papermill": {
     "duration": 0.084829,
     "end_time": "2023-12-20T21:43:33.164666",
     "exception": false,
     "start_time": "2023-12-20T21:43:33.079837",
     "status": "completed"
    },
    "tags": []
   },
   "outputs": [
    {
     "name": "stdout",
     "output_type": "stream",
     "text": [
      "              precision    recall  f1-score   support\n",
      "\n",
      "           0       0.50      0.26      0.34        35\n",
      "           1       0.38      0.64      0.48        25\n",
      "\n",
      "    accuracy                           0.42        60\n",
      "   macro avg       0.44      0.45      0.41        60\n",
      "weighted avg       0.45      0.42      0.40        60\n",
      "\n",
      "[[ 9 26]\n",
      " [ 9 16]]\n"
     ]
    }
   ],
   "source": [
    "import pandas as pd\n",
    "from sklearn.model_selection import train_test_split\n",
    "from sklearn.naive_bayes import CategoricalNB\n",
    "from sklearn.metrics import classification_report, confusion_matrix\n",
    "from sklearn.preprocessing import OrdinalEncoder\n",
    "\n",
    "encoder = OrdinalEncoder()\n",
    "categorical_cols = data.select_dtypes(include=['object']).columns\n",
    "data[categorical_cols] = encoder.fit_transform(data[categorical_cols])\n",
    "\n",
    "y = data['Igm']\n",
    "X = data.drop('Igm', axis=1)\n",
    "X_train, X_test, y_train, y_test = train_test_split(X, y, test_size=0.2, random_state=42)\n",
    "\n",
    "\n",
    "cnb_classifier = CategoricalNB()\n",
    "cnb_classifier.fit(X_train, y_train)\n",
    "y_pred_cnb = cnb_classifier.predict(X_test)\n",
    "\n",
    "classification_report_cnb = classification_report(y_test, y_pred_cnb)\n",
    "confusion_matrix_cnb = confusion_matrix(y_test, y_pred_cnb)\n",
    "\n",
    "print(classification_report_cnb)\n",
    "print(confusion_matrix_cnb)"
   ]
  },
  {
   "cell_type": "markdown",
   "id": "5ac2ecfd",
   "metadata": {
    "papermill": {
     "duration": 0.021574,
     "end_time": "2023-12-20T21:43:33.208904",
     "exception": false,
     "start_time": "2023-12-20T21:43:33.187330",
     "status": "completed"
    },
    "tags": []
   },
   "source": [
    "# 22. Stochastic Gradient Descent (SGD) Classifier"
   ]
  },
  {
   "cell_type": "code",
   "execution_count": 28,
   "id": "3d17df74",
   "metadata": {
    "execution": {
     "iopub.execute_input": "2023-12-20T21:43:33.254857Z",
     "iopub.status.busy": "2023-12-20T21:43:33.254473Z",
     "iopub.status.idle": "2023-12-20T21:43:33.291535Z",
     "shell.execute_reply": "2023-12-20T21:43:33.290530Z"
    },
    "papermill": {
     "duration": 0.063203,
     "end_time": "2023-12-20T21:43:33.294132",
     "exception": false,
     "start_time": "2023-12-20T21:43:33.230929",
     "status": "completed"
    },
    "tags": []
   },
   "outputs": [
    {
     "name": "stdout",
     "output_type": "stream",
     "text": [
      "              precision    recall  f1-score   support\n",
      "\n",
      "           0       0.62      0.66      0.64        35\n",
      "           1       0.48      0.44      0.46        25\n",
      "\n",
      "    accuracy                           0.57        60\n",
      "   macro avg       0.55      0.55      0.55        60\n",
      "weighted avg       0.56      0.57      0.56        60\n",
      "\n",
      "[[23 12]\n",
      " [14 11]]\n"
     ]
    },
    {
     "name": "stderr",
     "output_type": "stream",
     "text": [
      "/opt/conda/lib/python3.10/site-packages/sklearn/linear_model/_stochastic_gradient.py:702: ConvergenceWarning: Maximum number of iteration reached before convergence. Consider increasing max_iter to improve the fit.\n",
      "  warnings.warn(\n"
     ]
    }
   ],
   "source": [
    "import pandas as pd\n",
    "from sklearn.model_selection import train_test_split\n",
    "from sklearn.linear_model import SGDClassifier\n",
    "from sklearn.metrics import classification_report, confusion_matrix\n",
    "from sklearn.preprocessing import StandardScaler\n",
    "\n",
    "\n",
    "y = data['Igm']\n",
    "X = data.drop('Igm', axis=1)\n",
    "\n",
    "scaler = StandardScaler()\n",
    "X_scaled = scaler.fit_transform(X)\n",
    "X_train, X_test, y_train, y_test = train_test_split(X_scaled, y, test_size=0.2, random_state=42)\n",
    "sgd_classifier = SGDClassifier(max_iter=10, random_state=4200)\n",
    "sgd_classifier.fit(X_train, y_train)\n",
    "\n",
    "\n",
    "y_pred_sgd = sgd_classifier.predict(X_test)\n",
    "classification_report_sgd = classification_report(y_test, y_pred_sgd)\n",
    "confusion_matrix_sgd = confusion_matrix(y_test, y_pred_sgd)\n",
    "print(classification_report_sgd)\n",
    "print(confusion_matrix_sgd)"
   ]
  },
  {
   "cell_type": "markdown",
   "id": "b0521773",
   "metadata": {
    "papermill": {
     "duration": 0.022032,
     "end_time": "2023-12-20T21:43:33.338839",
     "exception": false,
     "start_time": "2023-12-20T21:43:33.316807",
     "status": "completed"
    },
    "tags": []
   },
   "source": [
    "# 23. IsolationForest"
   ]
  },
  {
   "cell_type": "code",
   "execution_count": 29,
   "id": "6410c349",
   "metadata": {
    "execution": {
     "iopub.execute_input": "2023-12-20T21:43:33.385294Z",
     "iopub.status.busy": "2023-12-20T21:43:33.384867Z",
     "iopub.status.idle": "2023-12-20T21:43:33.690027Z",
     "shell.execute_reply": "2023-12-20T21:43:33.688960Z"
    },
    "papermill": {
     "duration": 0.331543,
     "end_time": "2023-12-20T21:43:33.692587",
     "exception": false,
     "start_time": "2023-12-20T21:43:33.361044",
     "status": "completed"
    },
    "tags": []
   },
   "outputs": [
    {
     "name": "stdout",
     "output_type": "stream",
     "text": [
      "              precision    recall  f1-score   support\n",
      "\n",
      "           0       0.58      1.00      0.74        35\n",
      "           1       0.00      0.00      0.00        25\n",
      "\n",
      "    accuracy                           0.58        60\n",
      "   macro avg       0.29      0.50      0.37        60\n",
      "weighted avg       0.34      0.58      0.43        60\n",
      "\n",
      "[[35  0]\n",
      " [25  0]]\n"
     ]
    },
    {
     "name": "stderr",
     "output_type": "stream",
     "text": [
      "/opt/conda/lib/python3.10/site-packages/sklearn/metrics/_classification.py:1344: UndefinedMetricWarning: Precision and F-score are ill-defined and being set to 0.0 in labels with no predicted samples. Use `zero_division` parameter to control this behavior.\n",
      "  _warn_prf(average, modifier, msg_start, len(result))\n",
      "/opt/conda/lib/python3.10/site-packages/sklearn/metrics/_classification.py:1344: UndefinedMetricWarning: Precision and F-score are ill-defined and being set to 0.0 in labels with no predicted samples. Use `zero_division` parameter to control this behavior.\n",
      "  _warn_prf(average, modifier, msg_start, len(result))\n",
      "/opt/conda/lib/python3.10/site-packages/sklearn/metrics/_classification.py:1344: UndefinedMetricWarning: Precision and F-score are ill-defined and being set to 0.0 in labels with no predicted samples. Use `zero_division` parameter to control this behavior.\n",
      "  _warn_prf(average, modifier, msg_start, len(result))\n"
     ]
    }
   ],
   "source": [
    "import pandas as pd\n",
    "from sklearn.model_selection import train_test_split\n",
    "from sklearn.ensemble import IsolationForest\n",
    "from sklearn.metrics import classification_report, confusion_matrix\n",
    "\n",
    "y = data['Igm']\n",
    "X = data.drop('Igm', axis=1)\n",
    "X_train, X_test, y_train, y_test = train_test_split(X, y, test_size=0.2, random_state=42)\n",
    "\n",
    "iso_forest = IsolationForest(random_state=42)\n",
    "iso_forest.fit(X_train)\n",
    "\n",
    "y_pred_iso = iso_forest.predict(X_test)\n",
    "y_pred_iso = (y_pred_iso > 0.5).astype(int)\n",
    "\n",
    "classification_report_iso = classification_report(y_test, y_pred_iso)\n",
    "confusion_matrix_iso = confusion_matrix(y_test, y_pred_iso)\n",
    "\n",
    "print(classification_report_iso)\n",
    "print(confusion_matrix_iso)\n"
   ]
  },
  {
   "cell_type": "markdown",
   "id": "8ab001be",
   "metadata": {
    "papermill": {
     "duration": 0.022826,
     "end_time": "2023-12-20T21:43:33.737862",
     "exception": false,
     "start_time": "2023-12-20T21:43:33.715036",
     "status": "completed"
    },
    "tags": []
   },
   "source": [
    "# 24. One-Class SVM"
   ]
  },
  {
   "cell_type": "code",
   "execution_count": 30,
   "id": "3b1b6f2f",
   "metadata": {
    "execution": {
     "iopub.execute_input": "2023-12-20T21:43:33.784780Z",
     "iopub.status.busy": "2023-12-20T21:43:33.784322Z",
     "iopub.status.idle": "2023-12-20T21:43:33.815241Z",
     "shell.execute_reply": "2023-12-20T21:43:33.814093Z"
    },
    "papermill": {
     "duration": 0.05769,
     "end_time": "2023-12-20T21:43:33.817889",
     "exception": false,
     "start_time": "2023-12-20T21:43:33.760199",
     "status": "completed"
    },
    "tags": []
   },
   "outputs": [
    {
     "name": "stdout",
     "output_type": "stream",
     "text": [
      "              precision    recall  f1-score   support\n",
      "\n",
      "           0       0.67      0.83      0.74        35\n",
      "           1       0.65      0.44      0.52        25\n",
      "\n",
      "    accuracy                           0.67        60\n",
      "   macro avg       0.66      0.63      0.63        60\n",
      "weighted avg       0.66      0.67      0.65        60\n",
      "\n",
      "[[29  6]\n",
      " [14 11]]\n"
     ]
    }
   ],
   "source": [
    "import pandas as pd\n",
    "from sklearn.model_selection import train_test_split\n",
    "from sklearn.svm import OneClassSVM\n",
    "from sklearn.metrics import classification_report, confusion_matrix\n",
    "from sklearn.preprocessing import StandardScaler\n",
    "\n",
    "scaler = StandardScaler()\n",
    "X_scaled = scaler.fit_transform(X)\n",
    "\n",
    "X_train, X_test, y_train, y_test = train_test_split(X_scaled, y, test_size=0.2, random_state=42)\n",
    "oc_svm = OneClassSVM(gamma='auto')\n",
    "oc_svm.fit(X_train[y_train == 1])\n",
    "y_pred_ocsvm = oc_svm.predict(X_test)\n",
    "y_pred_ocsvm = (y_pred_ocsvm > 0).astype(int)\n",
    "classification_report_ocsvm = classification_report(y_test, y_pred_ocsvm)\n",
    "confusion_matrix_ocsvm = confusion_matrix(y_test, y_pred_ocsvm)\n",
    "print(classification_report_ocsvm)\n",
    "print(confusion_matrix_ocsvm)\n"
   ]
  },
  {
   "cell_type": "markdown",
   "id": "a45f9552",
   "metadata": {
    "papermill": {
     "duration": 0.022229,
     "end_time": "2023-12-20T21:43:33.862976",
     "exception": false,
     "start_time": "2023-12-20T21:43:33.840747",
     "status": "completed"
    },
    "tags": []
   },
   "source": [
    "# 25. Principal Component Regression (PCR)"
   ]
  },
  {
   "cell_type": "code",
   "execution_count": 31,
   "id": "b4cf8ac0",
   "metadata": {
    "execution": {
     "iopub.execute_input": "2023-12-20T21:43:33.910629Z",
     "iopub.status.busy": "2023-12-20T21:43:33.910179Z",
     "iopub.status.idle": "2023-12-20T21:43:33.996821Z",
     "shell.execute_reply": "2023-12-20T21:43:33.995681Z"
    },
    "papermill": {
     "duration": 0.113507,
     "end_time": "2023-12-20T21:43:33.999358",
     "exception": false,
     "start_time": "2023-12-20T21:43:33.885851",
     "status": "completed"
    },
    "tags": []
   },
   "outputs": [
    {
     "name": "stdout",
     "output_type": "stream",
     "text": [
      "Cross-Validation Mean: -0.016918495376177532, Standard Deviation: 0.007474817410499675\n"
     ]
    }
   ],
   "source": [
    "import pandas as pd\n",
    "from sklearn.decomposition import PCA\n",
    "from sklearn.linear_model import LinearRegression\n",
    "from sklearn.model_selection import train_test_split, cross_val_score\n",
    "from sklearn.pipeline import make_pipeline\n",
    "from sklearn.preprocessing import StandardScaler\n",
    "\n",
    "y = data['Igm']\n",
    "X = data.drop('Igm', axis=1)\n",
    "\n",
    "X_train, X_test, y_train, y_test = train_test_split(X, y, test_size=0.2, random_state=42)\n",
    "\n",
    "n_components = 2 \n",
    "\n",
    "pcr = make_pipeline(StandardScaler(), PCA(n_components=n_components), LinearRegression())\n",
    "cv_scores = cross_val_score(pcr, X_train, y_train, cv=5)\n",
    "cv_scores_mean = cv_scores.mean()\n",
    "cv_scores_std = cv_scores.std()\n",
    "\n",
    "print(f'Cross-Validation Mean: {cv_scores_mean}, Standard Deviation: {cv_scores_std}')"
   ]
  },
  {
   "cell_type": "code",
   "execution_count": 32,
   "id": "facbf3e6",
   "metadata": {
    "execution": {
     "iopub.execute_input": "2023-12-20T21:43:34.048299Z",
     "iopub.status.busy": "2023-12-20T21:43:34.047371Z",
     "iopub.status.idle": "2023-12-20T21:43:34.153075Z",
     "shell.execute_reply": "2023-12-20T21:43:34.151948Z"
    },
    "papermill": {
     "duration": 0.132616,
     "end_time": "2023-12-20T21:43:34.155615",
     "exception": false,
     "start_time": "2023-12-20T21:43:34.022999",
     "status": "completed"
    },
    "tags": []
   },
   "outputs": [
    {
     "name": "stdout",
     "output_type": "stream",
     "text": [
      "              precision    recall  f1-score   support\n",
      "\n",
      "           0       0.50      0.46      0.48       114\n",
      "           1       0.54      0.58      0.56       126\n",
      "\n",
      "    accuracy                           0.53       240\n",
      "   macro avg       0.52      0.52      0.52       240\n",
      "weighted avg       0.52      0.53      0.52       240\n",
      "\n",
      "[[53 61]\n",
      " [53 73]]\n"
     ]
    }
   ],
   "source": [
    "import pandas as pd\n",
    "from sklearn.decomposition import PCA\n",
    "from sklearn.linear_model import LogisticRegression\n",
    "from sklearn.model_selection import train_test_split, cross_val_predict\n",
    "from sklearn.pipeline import make_pipeline\n",
    "from sklearn.preprocessing import StandardScaler\n",
    "from sklearn.metrics import classification_report, confusion_matrix\n",
    "\n",
    "y = data['Igm']\n",
    "X = data.drop('Igm', axis=1)\n",
    "\n",
    "X_train, X_test, y_train, y_test = train_test_split(X, y, test_size=0.2, random_state=42)\n",
    "\n",
    "n_components = 24\n",
    "pcr_logistic = make_pipeline(StandardScaler(), PCA(n_components=n_components), LogisticRegression())\n",
    "y_pred_pcr = cross_val_predict(pcr_logistic, X_train, y_train, cv=5)\n",
    "classification_report_pcr = classification_report(y_train, y_pred_pcr)\n",
    "confusion_matrix_pcr = confusion_matrix(y_train, y_pred_pcr)\n",
    "print(classification_report_pcr)\n",
    "print(confusion_matrix_pcr)"
   ]
  },
  {
   "cell_type": "markdown",
   "id": "222d4ba3",
   "metadata": {
    "papermill": {
     "duration": 0.022753,
     "end_time": "2023-12-20T21:43:34.201875",
     "exception": false,
     "start_time": "2023-12-20T21:43:34.179122",
     "status": "completed"
    },
    "tags": []
   },
   "source": [
    "# 26. Canonical Correlation Analysis (CCA)"
   ]
  },
  {
   "cell_type": "code",
   "execution_count": 33,
   "id": "ff5d2c4b",
   "metadata": {
    "execution": {
     "iopub.execute_input": "2023-12-20T21:43:34.250018Z",
     "iopub.status.busy": "2023-12-20T21:43:34.249626Z",
     "iopub.status.idle": "2023-12-20T21:43:34.314977Z",
     "shell.execute_reply": "2023-12-20T21:43:34.313772Z"
    },
    "papermill": {
     "duration": 0.092716,
     "end_time": "2023-12-20T21:43:34.317578",
     "exception": false,
     "start_time": "2023-12-20T21:43:34.224862",
     "status": "completed"
    },
    "tags": []
   },
   "outputs": [
    {
     "name": "stdout",
     "output_type": "stream",
     "text": [
      "              precision    recall  f1-score   support\n",
      "\n",
      "           0       0.67      0.51      0.58        35\n",
      "           1       0.48      0.64      0.55        25\n",
      "\n",
      "    accuracy                           0.57        60\n",
      "   macro avg       0.58      0.58      0.57        60\n",
      "weighted avg       0.59      0.57      0.57        60\n",
      "\n",
      "[[18 17]\n",
      " [ 9 16]]\n"
     ]
    }
   ],
   "source": [
    "import pandas as pd\n",
    "from sklearn.cross_decomposition import CCA\n",
    "from sklearn.linear_model import LogisticRegression\n",
    "from sklearn.metrics import classification_report, confusion_matrix\n",
    "from sklearn.model_selection import train_test_split\n",
    "\n",
    "midpoint = X.shape[1] // 2\n",
    "X1 = X.iloc[:, :midpoint]\n",
    "X2 = X.iloc[:, midpoint:]\n",
    "\n",
    "n_components = 12  \n",
    "\n",
    "cca = CCA(n_components=n_components)\n",
    "cca.fit(X1, X2)\n",
    "X1_c, X2_c = cca.transform(X1, X2)\n",
    "X_combined = pd.concat([pd.DataFrame(X1_c), pd.DataFrame(X2_c)], axis=1)\n",
    "X_train, X_test, y_train, y_test = train_test_split(X_combined, y, test_size=0.2, random_state=42)\n",
    "\n",
    "classifier = LogisticRegression()\n",
    "classifier.fit(X_train, y_train)\n",
    "y_pred = classifier.predict(X_test)\n",
    "report = classification_report(y_test, y_pred)\n",
    "conf_matrix = confusion_matrix(y_test, y_pred)\n",
    "\n",
    "print(report)\n",
    "print(conf_matrix)\n"
   ]
  },
  {
   "cell_type": "markdown",
   "id": "d255d4a3",
   "metadata": {
    "papermill": {
     "duration": 0.022591,
     "end_time": "2023-12-20T21:43:34.363570",
     "exception": false,
     "start_time": "2023-12-20T21:43:34.340979",
     "status": "completed"
    },
    "tags": []
   },
   "source": [
    "# 27. Radial Basis Function (RBF) Kernel"
   ]
  },
  {
   "cell_type": "code",
   "execution_count": 34,
   "id": "c2ad94f3",
   "metadata": {
    "execution": {
     "iopub.execute_input": "2023-12-20T21:43:34.411591Z",
     "iopub.status.busy": "2023-12-20T21:43:34.411164Z",
     "iopub.status.idle": "2023-12-20T21:43:34.442533Z",
     "shell.execute_reply": "2023-12-20T21:43:34.441414Z"
    },
    "papermill": {
     "duration": 0.058445,
     "end_time": "2023-12-20T21:43:34.445021",
     "exception": false,
     "start_time": "2023-12-20T21:43:34.386576",
     "status": "completed"
    },
    "tags": []
   },
   "outputs": [
    {
     "name": "stdout",
     "output_type": "stream",
     "text": [
      "              precision    recall  f1-score   support\n",
      "\n",
      "           0       0.62      0.37      0.46        35\n",
      "           1       0.44      0.68      0.53        25\n",
      "\n",
      "    accuracy                           0.50        60\n",
      "   macro avg       0.53      0.53      0.50        60\n",
      "weighted avg       0.54      0.50      0.49        60\n",
      "\n",
      "[[13 22]\n",
      " [ 8 17]]\n"
     ]
    }
   ],
   "source": [
    "from sklearn.svm import SVC\n",
    "from sklearn.metrics import classification_report, confusion_matrix\n",
    "from sklearn.preprocessing import StandardScaler\n",
    "\n",
    "scaler = StandardScaler()\n",
    "X_train_scaled = scaler.fit_transform(X_train)\n",
    "X_test_scaled = scaler.transform(X_test)\n",
    "svc_rbf = SVC(kernel='rbf', random_state=4200)\n",
    "svc_rbf.fit(X_train_scaled, y_train)\n",
    "y_pred_svc_rbf = svc_rbf.predict(X_test_scaled)\n",
    "classification_report_rbf = classification_report(y_test, y_pred_svc_rbf)\n",
    "confusion_matrix_rbf = confusion_matrix(y_test, y_pred_svc_rbf)\n",
    "print(classification_report_rbf)\n",
    "print(confusion_matrix_rbf)"
   ]
  },
  {
   "cell_type": "markdown",
   "id": "6006ba0d",
   "metadata": {
    "papermill": {
     "duration": 0.023934,
     "end_time": "2023-12-20T21:43:34.491927",
     "exception": false,
     "start_time": "2023-12-20T21:43:34.467993",
     "status": "completed"
    },
    "tags": []
   },
   "source": [
    "# 28. Particle Swarm Optimization (PSO)"
   ]
  },
  {
   "cell_type": "code",
   "execution_count": 35,
   "id": "4d2a2fd3",
   "metadata": {
    "execution": {
     "iopub.execute_input": "2023-12-20T21:43:34.540394Z",
     "iopub.status.busy": "2023-12-20T21:43:34.539969Z",
     "iopub.status.idle": "2023-12-20T21:43:53.536533Z",
     "shell.execute_reply": "2023-12-20T21:43:53.535030Z"
    },
    "papermill": {
     "duration": 19.024316,
     "end_time": "2023-12-20T21:43:53.539447",
     "exception": false,
     "start_time": "2023-12-20T21:43:34.515131",
     "status": "completed"
    },
    "tags": []
   },
   "outputs": [
    {
     "name": "stdout",
     "output_type": "stream",
     "text": [
      "Collecting pyswarm\r\n",
      "  Downloading pyswarm-0.6.tar.gz (4.3 kB)\r\n",
      "  Preparing metadata (setup.py) ... \u001b[?25l-\b \bdone\r\n",
      "\u001b[?25hRequirement already satisfied: numpy in /opt/conda/lib/python3.10/site-packages (from pyswarm) (1.24.3)\r\n",
      "Building wheels for collected packages: pyswarm\r\n",
      "  Building wheel for pyswarm (setup.py) ... \u001b[?25l-\b \b\\\b \bdone\r\n",
      "\u001b[?25h  Created wheel for pyswarm: filename=pyswarm-0.6-py3-none-any.whl size=4464 sha256=4deec6d1551ae3b73cd042fd30e4063a227b6d65bb6ffae78037520f73447207\r\n",
      "  Stored in directory: /root/.cache/pip/wheels/71/67/40/62fa158f497f942277cbab8199b05cb61c571ab324e67ad0d6\r\n",
      "Successfully built pyswarm\r\n",
      "Installing collected packages: pyswarm\r\n",
      "Successfully installed pyswarm-0.6\r\n"
     ]
    }
   ],
   "source": [
    "!pip install pyswarm\n"
   ]
  },
  {
   "cell_type": "code",
   "execution_count": 36,
   "id": "371df16e",
   "metadata": {
    "execution": {
     "iopub.execute_input": "2023-12-20T21:43:53.590520Z",
     "iopub.status.busy": "2023-12-20T21:43:53.590032Z",
     "iopub.status.idle": "2023-12-20T21:44:52.440417Z",
     "shell.execute_reply": "2023-12-20T21:44:52.439197Z"
    },
    "papermill": {
     "duration": 58.904521,
     "end_time": "2023-12-20T21:44:52.468403",
     "exception": false,
     "start_time": "2023-12-20T21:43:53.563882",
     "status": "completed"
    },
    "tags": []
   },
   "outputs": [
    {
     "name": "stdout",
     "output_type": "stream",
     "text": [
      "Stopping search: maximum iterations reached --> 100\n",
      "              precision    recall  f1-score   support\n",
      "\n",
      "           0       0.00      0.00      0.00        35\n",
      "           1       0.42      1.00      0.59        25\n",
      "\n",
      "    accuracy                           0.42        60\n",
      "   macro avg       0.21      0.50      0.29        60\n",
      "weighted avg       0.17      0.42      0.25        60\n",
      "\n",
      "[[ 0 35]\n",
      " [ 0 25]]\n"
     ]
    },
    {
     "name": "stderr",
     "output_type": "stream",
     "text": [
      "/opt/conda/lib/python3.10/site-packages/sklearn/metrics/_classification.py:1344: UndefinedMetricWarning: Precision and F-score are ill-defined and being set to 0.0 in labels with no predicted samples. Use `zero_division` parameter to control this behavior.\n",
      "  _warn_prf(average, modifier, msg_start, len(result))\n",
      "/opt/conda/lib/python3.10/site-packages/sklearn/metrics/_classification.py:1344: UndefinedMetricWarning: Precision and F-score are ill-defined and being set to 0.0 in labels with no predicted samples. Use `zero_division` parameter to control this behavior.\n",
      "  _warn_prf(average, modifier, msg_start, len(result))\n",
      "/opt/conda/lib/python3.10/site-packages/sklearn/metrics/_classification.py:1344: UndefinedMetricWarning: Precision and F-score are ill-defined and being set to 0.0 in labels with no predicted samples. Use `zero_division` parameter to control this behavior.\n",
      "  _warn_prf(average, modifier, msg_start, len(result))\n"
     ]
    }
   ],
   "source": [
    "import numpy as np\n",
    "from pyswarm import pso\n",
    "from sklearn.svm import SVC\n",
    "from sklearn.metrics import accuracy_score\n",
    "from sklearn.model_selection import train_test_split\n",
    "\n",
    "X_train, X_test, y_train, y_test = train_test_split(X, y, test_size=0.2, random_state=42)\n",
    "\n",
    "def svm_objective_function(hyperparameters):\n",
    "    C, gamma = hyperparameters\n",
    "    model = SVC(C=C, gamma=gamma)\n",
    "    model.fit(X_train, y_train)\n",
    "    predictions = model.predict(X_test)\n",
    "    return -accuracy_score(y_test, predictions)  # Negative accuracy, because PSO minimizes the function\n",
    "\n",
    "# Define the bounds for C and gamma (this may vary and needs tuning)\n",
    "lb = [0.001, 0.0001]\n",
    "ub = [1000, 1]\n",
    "\n",
    "\n",
    "optimal_hyperparameters, _ = pso(svm_objective_function, lb, ub, swarmsize=50, maxiter=100)\n",
    "\n",
    "optimal_C, optimal_gamma = optimal_hyperparameters\n",
    "optimal_model = SVC(C=optimal_C, gamma=optimal_gamma)\n",
    "optimal_model.fit(X_train, y_train)\n",
    "optimal_predictions = optimal_model.predict(X_test)\n",
    "\n",
    "\n",
    "from sklearn.metrics import classification_report, confusion_matrix\n",
    "print(classification_report(y_test, optimal_predictions))\n",
    "print(confusion_matrix(y_test, optimal_predictions))"
   ]
  },
  {
   "cell_type": "code",
   "execution_count": null,
   "id": "8b1ecdbd",
   "metadata": {
    "papermill": {
     "duration": 0.024499,
     "end_time": "2023-12-20T21:44:52.517007",
     "exception": false,
     "start_time": "2023-12-20T21:44:52.492508",
     "status": "completed"
    },
    "tags": []
   },
   "outputs": [],
   "source": []
  }
 ],
 "metadata": {
  "kaggle": {
   "accelerator": "none",
   "dataSources": [
    {
     "datasetId": 4197856,
     "sourceId": 7246422,
     "sourceType": "datasetVersion"
    }
   ],
   "dockerImageVersionId": 30626,
   "isGpuEnabled": false,
   "isInternetEnabled": true,
   "language": "python",
   "sourceType": "notebook"
  },
  "kernelspec": {
   "display_name": "Python 3",
   "language": "python",
   "name": "python3"
  },
  "language_info": {
   "codemirror_mode": {
    "name": "ipython",
    "version": 3
   },
   "file_extension": ".py",
   "mimetype": "text/x-python",
   "name": "python",
   "nbconvert_exporter": "python",
   "pygments_lexer": "ipython3",
   "version": "3.10.12"
  },
  "papermill": {
   "default_parameters": {},
   "duration": 135.697025,
   "end_time": "2023-12-20T21:44:53.567410",
   "environment_variables": {},
   "exception": null,
   "input_path": "__notebook__.ipynb",
   "output_path": "__notebook__.ipynb",
   "parameters": {},
   "start_time": "2023-12-20T21:42:37.870385",
   "version": "2.4.0"
  }
 },
 "nbformat": 4,
 "nbformat_minor": 5
}
